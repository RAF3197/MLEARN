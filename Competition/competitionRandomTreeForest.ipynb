{
 "cells": [
  {
   "cell_type": "code",
   "execution_count": 1,
   "metadata": {},
   "outputs": [
    {
     "name": "stdout",
     "output_type": "stream",
     "text": [
      "Fitting 5 folds for each of 162 candidates, totalling 810 fits\n"
     ]
    },
    {
     "name": "stderr",
     "output_type": "stream",
     "text": [
      "c:\\Users\\Ricard\\Documents\\Git\\MLEARN\\.venv\\lib\\site-packages\\numpy\\ma\\core.py:2846: RuntimeWarning: invalid value encountered in cast\n",
      "  _data = np.array(data, dtype=dtype, copy=copy,\n"
     ]
    },
    {
     "name": "stdout",
     "output_type": "stream",
     "text": [
      "Best parameters found: {'bootstrap': False, 'max_depth': 30, 'min_samples_leaf': 1, 'min_samples_split': 2, 'n_estimators': 300}\n",
      "Test Accuracy: 0.7083\n",
      "Classification Report:\n",
      "               precision    recall  f1-score   support\n",
      "\n",
      "        8PSK       0.62      0.81      0.70       480\n",
      "        BPSK       0.98      0.79      0.88       480\n",
      "       CPFSK       0.92      0.53      0.67       480\n",
      "        GFSK       0.61      0.99      0.76       480\n",
      "        QPSK       0.60      0.41      0.49       480\n",
      "\n",
      "    accuracy                           0.71      2400\n",
      "   macro avg       0.75      0.71      0.70      2400\n",
      "weighted avg       0.75      0.71      0.70      2400\n",
      "\n"
     ]
    }
   ],
   "source": [
    "import pandas as pd\n",
    "import numpy as np\n",
    "from sklearn.ensemble import RandomForestClassifier\n",
    "from sklearn.model_selection import train_test_split\n",
    "from sklearn.metrics import accuracy_score, classification_report\n",
    "from sklearn.preprocessing import StandardScaler\n",
    "from sklearn.model_selection import GridSearchCV\n",
    "\n",
    "# Load the dataset (adjust your dataset path)\n",
    "dataset = pd.read_csv(\"data/dataset_train_2024.csv\")\n",
    "\n",
    "# Preprocess data (extract features and labels)\n",
    "sequences_1 = dataset.iloc[:, 1:129].values  # Columns 1-128\n",
    "sequences_2 = dataset.iloc[:, 129:257].values  # Columns 129-256\n",
    "extra_feature = dataset.iloc[:, 257].values.reshape(-1, 1)  # Column 257\n",
    "\n",
    "# Combine features\n",
    "all_features = np.hstack([sequences_1, sequences_2, extra_feature])\n",
    "\n",
    "# Normalize features\n",
    "scaler = StandardScaler()\n",
    "normalized_features = scaler.fit_transform(all_features)\n",
    "\n",
    "# Labels\n",
    "labels = dataset.iloc[:, -1].values\n",
    "\n",
    "# Split data into training and testing sets\n",
    "X_train, X_test, y_train, y_test = train_test_split(normalized_features, labels, test_size=0.2, random_state=42, stratify=labels)\n",
    "\n",
    "# Initialize the Random Forest model\n",
    "rf_model = RandomForestClassifier(random_state=42)\n",
    "\n",
    "# Optionally, perform hyperparameter tuning using GridSearchCV\n",
    "param_grid = {\n",
    "    'n_estimators': [100, 200, 300],  # Number of trees in the forest\n",
    "    'max_depth': [10, 20, 30],  # Max depth of each tree\n",
    "    'min_samples_split': [2, 5, 10],  # Minimum number of samples required to split an internal node\n",
    "    'min_samples_leaf': [1, 2, 4],  # Minimum number of samples required at each leaf node\n",
    "    'bootstrap': [True, False]  # Whether to use bootstrap samples when building trees\n",
    "}\n",
    "\n",
    "grid_search = GridSearchCV(estimator=rf_model, param_grid=param_grid, cv=5, n_jobs=-1, verbose=2)\n",
    "grid_search.fit(X_train, y_train)\n",
    "\n",
    "# Best parameters from grid search\n",
    "print(f\"Best parameters found: {grid_search.best_params_}\")\n",
    "\n",
    "# Use the best model from grid search\n",
    "best_rf_model = grid_search.best_estimator_\n",
    "\n",
    "# Train the model\n",
    "best_rf_model.fit(X_train, y_train)\n",
    "\n",
    "# Evaluate the model on the test set\n",
    "y_pred = best_rf_model.predict(X_test)\n",
    "accuracy = accuracy_score(y_test, y_pred)\n",
    "print(f\"Test Accuracy: {accuracy:.4f}\")\n",
    "print(\"Classification Report:\\n\", classification_report(y_test, y_pred))\n",
    "\n",
    "# Optionally, save the model for later use\n",
    "#import joblib\n",
    "#joblib.dump(best_rf_model, 'random_forest_model.pkl')\n"
   ]
  },
  {
   "cell_type": "markdown",
   "metadata": {},
   "source": [
    "Best parameters found: {'bootstrap': False, 'max_depth': 30, 'min_samples_leaf': 1, 'min_samples_split': 2, 'n_estimators': 300}\n",
    "\n",
    "Test Accuracy: 0.7083\n",
    "\n",
    "Classification Report:\n",
    "               precision    recall  f1-score   support\n",
    "\n",
    "        8PSK       0.62      0.81      0.70       480\n",
    "        BPSK       0.98      0.79      0.88       480\n",
    "       CPFSK       0.92      0.53      0.67       480\n",
    "        GFSK       0.61      0.99      0.76       480\n",
    "        QPSK       0.60      0.41      0.49       480\n",
    "\n",
    "    accuracy                           0.71      2400\n",
    "\n",
    "   macro avg       0.75      0.71      0.70      2400\n",
    "   \n",
    "weighted avg       0.75      0.71      0.70      2400"
   ]
  }
 ],
 "metadata": {
  "kernelspec": {
   "display_name": ".venv",
   "language": "python",
   "name": "python3"
  },
  "language_info": {
   "codemirror_mode": {
    "name": "ipython",
    "version": 3
   },
   "file_extension": ".py",
   "mimetype": "text/x-python",
   "name": "python",
   "nbconvert_exporter": "python",
   "pygments_lexer": "ipython3",
   "version": "3.10.0"
  }
 },
 "nbformat": 4,
 "nbformat_minor": 2
}
