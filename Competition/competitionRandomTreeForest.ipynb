{
 "cells": [
  {
   "cell_type": "code",
   "execution_count": null,
   "metadata": {},
   "outputs": [],
   "source": [
    "import pandas as pd\n",
    "import numpy as np\n",
    "from sklearn.ensemble import RandomForestClassifier\n",
    "from sklearn.model_selection import train_test_split\n",
    "from sklearn.metrics import accuracy_score, classification_report\n",
    "from sklearn.preprocessing import StandardScaler\n",
    "from sklearn.model_selection import GridSearchCV"
   ]
  },
  {
   "cell_type": "code",
   "execution_count": null,
   "metadata": {},
   "outputs": [
    {
     "name": "stdout",
     "output_type": "stream",
     "text": [
      "Fitting 5 folds for each of 162 candidates, totalling 810 fits\n"
     ]
    },
    {
     "name": "stderr",
     "output_type": "stream",
     "text": [
      "c:\\Users\\Ricard\\Documents\\Git\\MLEARN\\.venv\\lib\\site-packages\\numpy\\ma\\core.py:2846: RuntimeWarning: invalid value encountered in cast\n",
      "  _data = np.array(data, dtype=dtype, copy=copy,\n"
     ]
    },
    {
     "name": "stdout",
     "output_type": "stream",
     "text": [
      "Best parameters found: {'bootstrap': False, 'max_depth': 30, 'min_samples_leaf': 1, 'min_samples_split': 2, 'n_estimators': 300}\n",
      "Test Accuracy: 0.7083\n",
      "Classification Report:\n",
      "               precision    recall  f1-score   support\n",
      "\n",
      "        8PSK       0.62      0.81      0.70       480\n",
      "        BPSK       0.98      0.79      0.88       480\n",
      "       CPFSK       0.92      0.53      0.67       480\n",
      "        GFSK       0.61      0.99      0.76       480\n",
      "        QPSK       0.60      0.41      0.49       480\n",
      "\n",
      "    accuracy                           0.71      2400\n",
      "   macro avg       0.75      0.71      0.70      2400\n",
      "weighted avg       0.75      0.71      0.70      2400\n",
      "\n"
     ]
    },
    {
     "ename": "",
     "evalue": "",
     "output_type": "error",
     "traceback": [
      "\u001b[1;31mThe Kernel crashed while executing code in the current cell or a previous cell. \n",
      "\u001b[1;31mPlease review the code in the cell(s) to identify a possible cause of the failure. \n",
      "\u001b[1;31mClick <a href='https://aka.ms/vscodeJupyterKernelCrash'>here</a> for more info. \n",
      "\u001b[1;31mView Jupyter <a href='command:jupyter.viewOutput'>log</a> for further details."
     ]
    }
   ],
   "source": [
    "dataset = pd.read_csv(\"data/dataset_train_2024.csv\")\n",
    "\n",
    "sequences_1 = dataset.iloc[:, 1:129].values\n",
    "sequences_2 = dataset.iloc[:, 129:257].values\n",
    "extra_feature = dataset.iloc[:, 257].values.reshape(-1, 1)\n",
    "\n",
    "all_features = np.hstack([sequences_1, sequences_2, extra_feature])\n",
    "\n",
    "scaler = StandardScaler()\n",
    "normalized_features = scaler.fit_transform(all_features)\n",
    "\n",
    "labels = dataset.iloc[:, -1].values\n",
    "\n",
    "X_train, X_test, y_train, y_test = train_test_split(normalized_features, labels, test_size=0.2, random_state=42, stratify=labels)\n",
    "\n",
    "rf_model = RandomForestClassifier(random_state=42)\n",
    "\n",
    "param_grid = {\n",
    "    'n_estimators': [100, 200, 300],\n",
    "    'max_depth': [10, 20, 30],\n",
    "    'min_samples_split': [2, 5, 10],\n",
    "    'min_samples_leaf': [1, 2, 4],\n",
    "    'bootstrap': [True, False]\n",
    "}\n",
    "\n",
    "grid_search = GridSearchCV(estimator=rf_model, param_grid=param_grid, cv=5, n_jobs=-1, verbose=2)\n",
    "grid_search.fit(X_train, y_train)\n",
    "\n",
    "print(f\"Best parameters found: {grid_search.best_params_}\")\n",
    "\n",
    "best_rf_model = grid_search.best_estimator_\n",
    "\n",
    "best_rf_model.fit(X_train, y_train)\n",
    "\n",
    "y_pred = best_rf_model.predict(X_test)\n",
    "accuracy = accuracy_score(y_test, y_pred)\n",
    "print(f\"Test Accuracy: {accuracy:.4f}\")\n",
    "print(\"Classification Report:\\n\", classification_report(y_test, y_pred))\n",
    "\n",
    "#import joblib\n",
    "#joblib.dump(best_rf_model, 'random_forest_model.pkl')\n"
   ]
  },
  {
   "cell_type": "markdown",
   "metadata": {},
   "source": [
    "Best parameters found: {'bootstrap': False, 'max_depth': 30, 'min_samples_leaf': 1, 'min_samples_split': 2, 'n_estimators': 300}\n",
    "\n",
    "Test Accuracy: 0.7083\n",
    "\n",
    "Classification Report:\n",
    "               precision    recall  f1-score   support\n",
    "\n",
    "        8PSK       0.62      0.81      0.70       480\n",
    "        BPSK       0.98      0.79      0.88       480\n",
    "       CPFSK       0.92      0.53      0.67       480\n",
    "        GFSK       0.61      0.99      0.76       480\n",
    "        QPSK       0.60      0.41      0.49       480\n",
    "\n",
    "    accuracy                           0.71      2400\n",
    "\n",
    "   macro avg       0.75      0.71      0.70      2400\n",
    "   \n",
    "weighted avg       0.75      0.71      0.70      2400"
   ]
  },
  {
   "cell_type": "markdown",
   "metadata": {},
   "source": [
    "# Kaggle"
   ]
  },
  {
   "cell_type": "code",
   "execution_count": null,
   "metadata": {},
   "outputs": [],
   "source": [
    "unlabeled_csv_path = \"data/dataset_test_no_label_2024.csv\"\n",
    "unlabeled_df = pd.read_csv(unlabeled_csv_path)\n",
    "\n",
    "unlabeled_df = unlabeled_df.drop(unlabeled_df.columns[0], axis=1)\n",
    "\n",
    "unlabeled_sequences_1 = unlabeled_df.iloc[:, :128].values\n",
    "unlabeled_sequences_2 = unlabeled_df.iloc[:, 128:256].values\n",
    "unlabeled_extra_feature = unlabeled_df.iloc[:, 256].values.reshape(-1, 1)\n",
    "\n",
    "unlabeled_all_features = np.hstack([unlabeled_sequences_1, unlabeled_sequences_2, unlabeled_extra_feature])\n",
    "\n",
    "normalized_test_features = scaler.transform(unlabeled_all_features)\n",
    "\n",
    "test_predictions = best_rf_model.predict(normalized_test_features)\n",
    "\n",
    "submission_df = pd.DataFrame({\n",
    "    \"ID\": range(len(test_predictions)),\n",
    "    \"MODULATION\": test_predictions\n",
    "})\n",
    "\n",
    "submission_file_path = \"./CSV/Spredictions_RF.csv\"\n",
    "submission_df.to_csv(submission_file_path, index=False)\n",
    "\n",
    "print(f\"Submission saved to {submission_file_path}\")"
   ]
  }
 ],
 "metadata": {
  "kernelspec": {
   "display_name": ".venv",
   "language": "python",
   "name": "python3"
  },
  "language_info": {
   "codemirror_mode": {
    "name": "ipython",
    "version": 3
   },
   "file_extension": ".py",
   "mimetype": "text/x-python",
   "name": "python",
   "nbconvert_exporter": "python",
   "pygments_lexer": "ipython3",
   "version": "3.10.0"
  }
 },
 "nbformat": 4,
 "nbformat_minor": 2
}
