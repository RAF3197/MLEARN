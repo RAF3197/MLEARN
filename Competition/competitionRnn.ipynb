{
 "cells": [
  {
   "cell_type": "code",
   "execution_count": 32,
   "metadata": {},
   "outputs": [],
   "source": [
    "import os\n",
    "import math\n",
    "import torch\n",
    "import torch.nn as nn\n",
    "import numpy as np\n",
    "import torch.optim as optim\n",
    "from torch.utils.data import Dataset, DataLoader, random_split\n",
    "import pandas as pd\n",
    "from sklearn.model_selection import train_test_split\n",
    "from sklearn.metrics import accuracy_score\n",
    "import time\n",
    "from sklearn.preprocessing import LabelEncoder\n",
    "import torch\n",
    "import torch.nn as nn\n",
    "import math"
   ]
  },
  {
   "cell_type": "code",
   "execution_count": 33,
   "metadata": {},
   "outputs": [],
   "source": [
    "from sklearn.discriminant_analysis import StandardScaler\n",
    "\n",
    "\n",
    "class CustomDataset(Dataset):\n",
    "    def __init__(self, csv_path=\"data/dataset_train_2024.csv\"):\n",
    "        # Load data from CSV\n",
    "        data = pd.read_csv(csv_path)\n",
    "        \n",
    "        # Extract features\n",
    "        self.sequences_1 = data.iloc[:, 1:129].values * 100  # Columns 1-128 (1-based indexing)\n",
    "        self.sequences_2 = data.iloc[:, 129:257].values * 100  # Columns 129-256\n",
    "        self.extra_feature = data.iloc[:, 257].values.reshape(-1, 1)  # Column 257\n",
    "\n",
    "        # Combine features\n",
    "        all_features = np.hstack([self.sequences_1, self.sequences_2, self.extra_feature])\n",
    "        \n",
    "        # Normalize features\n",
    "        self.scaler = StandardScaler()\n",
    "        self.normalized_features = self.scaler.fit_transform(all_features)\n",
    "        self.features = torch.tensor(self.normalized_features, dtype=torch.float32)\n",
    "\n",
    "\n",
    "        # Encode labels\n",
    "        self.label_encoder = LabelEncoder()\n",
    "        self.labels = torch.tensor(self.label_encoder.fit_transform(data.iloc[:, -1]), dtype=torch.long)\n",
    "\n",
    "    def __len__(self):\n",
    "        return len(self.features)\n",
    "\n",
    "    def __getitem__(self, idx):\n",
    "        return self.features[idx], self.labels[idx]\n",
    "    \n",
    "    def inverseTransform(self, array):\n",
    "        return self.label_encoder.inverse_transform(array)"
   ]
  },
  {
   "cell_type": "code",
   "execution_count": 50,
   "metadata": {},
   "outputs": [],
   "source": [
    "class RNNClassifier(nn.Module):\n",
    "    def __init__(self, input_dim, hidden_dim, num_layers, num_classes, bidirectional=False, dropout=0.0):\n",
    "        super(RNNClassifier, self).__init__()\n",
    "        self.hidden_dim = hidden_dim\n",
    "        self.num_layers = num_layers\n",
    "        self.bidirectional = bidirectional\n",
    "        self.rnn = nn.GRU(\n",
    "            input_dim,\n",
    "            hidden_dim,\n",
    "            num_layers,\n",
    "            batch_first=True,\n",
    "            bidirectional=bidirectional,\n",
    "            dropout=dropout\n",
    "        )\n",
    "        # Adjust the output dimension if bidirectional is used\n",
    "        self.fc = nn.Linear(hidden_dim * (2 if bidirectional else 1), num_classes)\n",
    "\n",
    "    def forward(self, x):\n",
    "        # RNN forward pass\n",
    "        # Input shape: [batch_size, seq_len, input_dim]\n",
    "        out, _ = self.rnn(x)  # out: [batch_size, seq_len, hidden_dim]\n",
    "        # Use the last hidden state for classification\n",
    "        out = out[:, -1, :]  # [batch_size, hidden_dim]\n",
    "        out = self.fc(out)  # [batch_size, num_classes]\n",
    "        return out\n"
   ]
  },
  {
   "cell_type": "code",
   "execution_count": 35,
   "metadata": {},
   "outputs": [],
   "source": [
    "def reformat_tensor(tensor):\n",
    "    \"\"\"\n",
    "    Reformats a tensor from shape [batch_size, 257] to [batch_size, 128, 3] for RNN input.\n",
    "    \"\"\"\n",
    "    batch_size = tensor.shape[0]\n",
    "    # Extract sequences\n",
    "    seq1 = tensor[:, :128]  # First 128 features\n",
    "    seq2 = tensor[:, 128:256]  # Next 128 features\n",
    "    # Extract noise and expand it to match seq_len\n",
    "    noise = tensor[:, -1].unsqueeze(1).expand(batch_size, 128)\n",
    "    # Stack along the last dimension to form [batch_size, 128, 3]\n",
    "    return torch.stack([seq1, seq2, noise], dim=2)"
   ]
  },
  {
   "cell_type": "markdown",
   "metadata": {},
   "source": [
    "# Hyperparameters\n",
    "\n",
    "hidden_dim = 64\n",
    "\n",
    "num_layers = 2\n",
    "\n",
    "bidirectional = True  # Set to False for unidirectional RNN\n",
    "\n",
    "num_classes = 5\n",
    "\n",
    "learning_rate = 0.001\n",
    "\n",
    "epochs = 50\n",
    "\n",
    "batch_size = 32"
   ]
  },
  {
   "cell_type": "code",
   "execution_count": 63,
   "metadata": {},
   "outputs": [
    {
     "name": "stdout",
     "output_type": "stream",
     "text": [
      "Using device: cuda\n",
      "Training RNN model...\n",
      "Epoch 1/50, Loss: 1.4799\n",
      "Epoch 2/50, Loss: 0.6238\n",
      "Epoch 3/50, Loss: 0.3860\n",
      "Epoch 4/50, Loss: 0.3252\n",
      "Epoch 5/50, Loss: 0.3071\n",
      "Epoch 6/50, Loss: 0.2902\n",
      "Epoch 7/50, Loss: 0.2738\n",
      "Epoch 8/50, Loss: 0.2418\n",
      "Epoch 9/50, Loss: 0.2013\n",
      "Epoch 10/50, Loss: 0.1747\n",
      "Epoch 11/50, Loss: 0.1427\n",
      "Epoch 12/50, Loss: 0.1190\n",
      "Epoch 13/50, Loss: 0.0984\n",
      "Epoch 14/50, Loss: 0.0838\n",
      "Epoch 15/50, Loss: 0.0677\n",
      "Epoch 16/50, Loss: 0.0627\n",
      "Epoch 17/50, Loss: 0.0534\n",
      "Epoch 18/50, Loss: 0.0443\n",
      "Epoch 19/50, Loss: 0.0586\n",
      "Epoch 20/50, Loss: 0.0356\n",
      "Epoch 21/50, Loss: 0.0364\n",
      "Epoch 22/50, Loss: 0.0330\n",
      "Epoch 23/50, Loss: 0.0400\n",
      "Epoch 24/50, Loss: 0.0247\n",
      "Epoch 25/50, Loss: 0.0450\n",
      "Epoch 26/50, Loss: 0.0193\n",
      "Epoch 27/50, Loss: 0.0213\n",
      "Epoch 28/50, Loss: 0.0141\n",
      "Epoch 29/50, Loss: 0.0224\n",
      "Epoch 30/50, Loss: 0.0175\n",
      "Epoch 31/50, Loss: 0.0147\n",
      "Epoch 32/50, Loss: 0.0270\n",
      "Epoch 33/50, Loss: 0.0196\n",
      "Epoch 34/50, Loss: 0.0227\n",
      "Epoch 35/50, Loss: 0.0126\n",
      "Epoch 36/50, Loss: 0.0094\n",
      "Epoch 37/50, Loss: 0.0136\n",
      "Epoch 38/50, Loss: 0.0297\n",
      "Epoch 39/50, Loss: 0.0108\n",
      "Epoch 40/50, Loss: 0.0023\n",
      "Epoch 41/50, Loss: 0.0011\n",
      "Epoch 42/50, Loss: 0.0007\n",
      "Epoch 43/50, Loss: 0.0005\n",
      "Epoch 44/50, Loss: 0.0004\n",
      "Epoch 45/50, Loss: 0.0003\n",
      "Epoch 46/50, Loss: 0.0002\n",
      "Epoch 47/50, Loss: 0.0001\n",
      "Epoch 48/50, Loss: 0.0454\n",
      "Epoch 49/50, Loss: 0.0307\n",
      "Epoch 50/50, Loss: 0.0150\n",
      "Test Accuracy: 0.9812\n"
     ]
    }
   ],
   "source": [
    "# Hyperparameters\n",
    "hidden_dim = 32\n",
    "num_layers = 3\n",
    "bidirectional = True  # Set to False for unidirectional RNN\n",
    "num_classes = 5\n",
    "learning_rate = 0.001\n",
    "epochs = 50\n",
    "batch_size = 16\n",
    "\n",
    "# Prepare Data\n",
    "dataset = CustomDataset()\n",
    "train_size = int(len(dataset))  # 80% for training\n",
    "test_size = int(len(dataset) * 0.2)  # 20% for testing\n",
    "train_data, test_data = random_split(dataset, [train_size, test_size])\n",
    "\n",
    "train_loader = DataLoader(train_data, batch_size=batch_size, shuffle=True)\n",
    "test_loader = DataLoader(test_data, batch_size=batch_size)\n",
    "\n",
    "device = torch.device(\"cuda\" if torch.cuda.is_available() else \"cpu\")\n",
    "print(f\"Using device: {device}\")\n",
    "\n",
    "# Model Initialization\n",
    "model = RNNClassifier(\n",
    "    input_dim=3,  # This matches the last dimension of [batch_size, 128, 3]\n",
    "    hidden_dim=hidden_dim,\n",
    "    num_layers=num_layers,\n",
    "    num_classes=num_classes,\n",
    "    bidirectional=bidirectional\n",
    ").to(device)\n",
    "\n",
    "# Loss and optimizer\n",
    "criterion = nn.CrossEntropyLoss()\n",
    "optimizer = optim.Adam(model.parameters(), lr=learning_rate)\n",
    "\n",
    "# Training Loop\n",
    "print(\"Training RNN model...\")\n",
    "for epoch in range(epochs):\n",
    "    model.train()\n",
    "    total_loss = 0\n",
    "    for features, labels in train_loader:\n",
    "        features = reformat_tensor(features).to(device)  # Reshape for RNN\n",
    "        labels = labels.to(device)\n",
    "\n",
    "        optimizer.zero_grad()\n",
    "        outputs = model(features)\n",
    "        loss = criterion(outputs, labels)\n",
    "        loss.backward()\n",
    "        optimizer.step()\n",
    "        total_loss += loss.item()\n",
    "\n",
    "    print(f\"Epoch {epoch + 1}/{epochs}, Loss: {total_loss / len(train_loader):.4f}\")\n",
    "\n",
    "# Evaluation\n",
    "model.eval()\n",
    "all_preds, all_labels = [], []\n",
    "with torch.no_grad():\n",
    "    for features, labels in test_loader:\n",
    "        features = reformat_tensor(features).to(device)\n",
    "        labels = labels.to(device)\n",
    "\n",
    "        outputs = model(features)\n",
    "        preds = torch.argmax(outputs, dim=1)\n",
    "        all_preds.extend(preds.cpu().numpy())\n",
    "        all_labels.extend(labels.cpu().numpy())\n",
    "\n",
    "accuracy = accuracy_score(all_labels, all_preds)\n",
    "print(f\"Test Accuracy: {accuracy:.4f}\")\n"
   ]
  },
  {
   "cell_type": "code",
   "execution_count": 64,
   "metadata": {},
   "outputs": [
    {
     "name": "stdout",
     "output_type": "stream",
     "text": [
      "Testing the model...\n",
      "F1 Score: 0.9812\n",
      "Accuracy: 0.9812\n"
     ]
    }
   ],
   "source": [
    "# Testing Loop\n",
    "print(\"Testing the model...\")\n",
    "model.eval()\n",
    "all_preds, all_labels = [], []\n",
    "with torch.no_grad():\n",
    "    for features, labels in test_loader:\n",
    "        # Move data to the appropriate device\n",
    "        features, labels = features.to(device), labels.to(device)\n",
    "        \n",
    "        # Reformat the input tensor to match the expected RNN input shape\n",
    "        features = reformat_tensor(features)\n",
    "        \n",
    "        # Get model predictions\n",
    "        outputs = model(features)\n",
    "        _, preds = torch.max(outputs, dim=1)\n",
    "        \n",
    "        # Collect predictions and labels for evaluation\n",
    "        all_preds.extend(preds.cpu().numpy())\n",
    "        all_labels.extend(labels.cpu().numpy())\n",
    "\n",
    "# Evaluate performance\n",
    "accuracy = accuracy_score(all_labels, all_preds)\n",
    "from sklearn.metrics import f1_score\n",
    "f1 = f1_score(all_labels, all_preds, average='weighted')  # or 'macro', 'micro', depending on your use case\n",
    "print(f\"F1 Score: {f1:.4f}\")\n",
    "print(f\"Accuracy: {accuracy:.4f}\")\n"
   ]
  },
  {
   "cell_type": "markdown",
   "metadata": {},
   "source": [
    "# Prepare for Kaggle\n"
   ]
  },
  {
   "cell_type": "code",
   "execution_count": 65,
   "metadata": {},
   "outputs": [
    {
     "name": "stdout",
     "output_type": "stream",
     "text": [
      "Predictions saved to 'predictions_RNN.csv'\n"
     ]
    }
   ],
   "source": [
    "#Using the model for prediction with the evaluation dataset\n",
    "\n",
    "import torch\n",
    "import pandas as pd\n",
    "from torch.utils.data import Dataset, DataLoader\n",
    "\n",
    "# Define the dataset class\n",
    "class UnlabeledDataset(Dataset):\n",
    "    def __init__(self, dataframe, transform=None):\n",
    "        self.data = dataframe\n",
    "\n",
    "        self.scaler = StandardScaler()\n",
    "        normalized_values = self.scaler.fit_transform(self.data.values)\n",
    "        self.normalized_data = pd.DataFrame(\n",
    "            normalized_values, columns=self.data.columns, index=self.data.index\n",
    "        )\n",
    "        self.transform = transform\n",
    "\n",
    "    def __len__(self):\n",
    "        return len(self.data)\n",
    "\n",
    "    def __getitem__(self, idx):\n",
    "        inputs = self.normalized_data.iloc[idx].values.astype('float32')  # Retrieve row as NumPy array\n",
    "        if self.transform:\n",
    "            inputs = self.transform(inputs)\n",
    "        return inputs\n",
    "\n",
    "# Load the unlabeled dataset\n",
    "csv_path = \"data/dataset_test_no_label_2024.csv\"  # Path to the dataset CSV file\n",
    "unlabeled_df = pd.read_csv(csv_path)  # Update the filename\n",
    "unlabeled_df = unlabeled_df.drop(unlabeled_df.columns[0], axis=1)\n",
    "unlabeled_dataset = UnlabeledDataset(unlabeled_df)\n",
    "unlabeled_dataloader = DataLoader(unlabeled_dataset, batch_size=64, shuffle=False)\n",
    "\n",
    "# Set the model to evaluation mode\n",
    "model.eval()\n",
    "\n",
    "# Store predictions and indices\n",
    "predictions = []\n",
    "indices = []\n",
    "\n",
    "# Generate predictions\n",
    "with torch.no_grad():\n",
    "    for idx, inputs in enumerate(unlabeled_dataloader):\n",
    "        inputs = inputs.to(device)  # Send inputs to the same device as the model\n",
    "        \n",
    "        # Reformat inputs to match RNN input shape\n",
    "        inputs = reformat_tensor(inputs)\n",
    "        \n",
    "        # Forward pass\n",
    "        outputs = model(inputs)\n",
    "        preds = torch.argmax(outputs, dim=1)  # Get predicted class\n",
    "        \n",
    "        # Save predictions and indices\n",
    "        start_idx = idx * unlabeled_dataloader.batch_size\n",
    "        batch_indices = list(range(start_idx, start_idx + len(inputs)))  # Adjusting the index properly\n",
    "        indices.extend(batch_indices)\n",
    "        predictions.extend(preds.cpu().numpy())\n",
    "\n",
    "# Create a DataFrame with indices and predictions\n",
    "output_df = pd.DataFrame({\"ID\": indices, \"MODULATION\": dataset.inverseTransform(predictions)})\n",
    "\n",
    "# Save to a CSV file\n",
    "output_df.to_csv(\"predictions_RNN.csv\", index=False)\n",
    "\n",
    "print(\"Predictions saved to 'predictions_RNN.csv'\")"
   ]
  },
  {
   "cell_type": "markdown",
   "metadata": {},
   "source": [
    "# Save the model"
   ]
  },
  {
   "cell_type": "code",
   "execution_count": 66,
   "metadata": {},
   "outputs": [
    {
     "name": "stdout",
     "output_type": "stream",
     "text": [
      "Model saved to ./RNN/rnn_classifier_gridSearch.pth\n"
     ]
    }
   ],
   "source": [
    "# Save the model's state dictionary\n",
    "model_path = \"./RNN/rnn_classifier_gridSearch.pth\"\n",
    "torch.save(model.state_dict(), model_path)\n",
    "print(f\"Model saved to {model_path}\")"
   ]
  },
  {
   "cell_type": "markdown",
   "metadata": {},
   "source": [
    "To load the saved model we use "
   ]
  },
  {
   "cell_type": "code",
   "execution_count": null,
   "metadata": {},
   "outputs": [],
   "source": [
    "# Define parameters\n",
    "input_dim = 3  # Match your input dimensions\n",
    "hidden_dim = 128  # Hidden dimension of your RNN\n",
    "num_layers = 2  # Number of RNN layers\n",
    "num_classes = 5  # Number of output classes\n",
    "bidirectional = False  # Match your model setting\n",
    "\n",
    "# Recreate the model\n",
    "loaded_model = RNNClassifier(\n",
    "    input_dim=input_dim,\n",
    "    hidden_dim=hidden_dim,\n",
    "    num_layers=num_layers,\n",
    "    num_classes=num_classes,\n",
    "    bidirectional=bidirectional\n",
    ")\n",
    "\n",
    "# Load the state dictionary\n",
    "loaded_model.load_state_dict(torch.load(\"rnn_classifier.pth\"))\n",
    "loaded_model.to(device)  # Send the model to the appropriate device\n",
    "loaded_model.eval()  # Set the model to evaluation mode\n",
    "\n",
    "print(\"Model loaded successfully!\")"
   ]
  },
  {
   "cell_type": "markdown",
   "metadata": {},
   "source": [
    "# GridSearch\n"
   ]
  },
  {
   "cell_type": "code",
   "execution_count": 57,
   "metadata": {},
   "outputs": [],
   "source": [
    "def train_model(model, train_loader, val_loader, epochs, learning_rate, batch_size):\n",
    "    criterion = nn.CrossEntropyLoss()\n",
    "    optimizer = optim.Adam(model.parameters(), lr=learning_rate)\n",
    "    \n",
    "    for epoch in range(epochs):\n",
    "        model.train()\n",
    "        for features, labels in train_loader:\n",
    "            features, labels = features.to(device), labels.to(device)\n",
    "\n",
    "            features = reformat_tensor(features)\n",
    "            \n",
    "            optimizer.zero_grad()\n",
    "            outputs = model(features)\n",
    "            loss = criterion(outputs, labels)\n",
    "            loss.backward()\n",
    "            optimizer.step()\n",
    "\n",
    "    # Evaluate the model\n",
    "    model.eval()\n",
    "    all_preds, all_labels = [], []\n",
    "    with torch.no_grad():\n",
    "        for features, labels in val_loader:\n",
    "            features, labels = features.to(device), labels.to(device)\n",
    "            features = reformat_tensor(features)\n",
    "            outputs = model(features)\n",
    "            _, preds = torch.max(outputs, dim=1)\n",
    "            all_preds.extend(preds.cpu().numpy())\n",
    "            all_labels.extend(labels.cpu().numpy())\n",
    "    \n",
    "    accuracy = accuracy_score(all_labels, all_preds)\n",
    "    score = f1_score(all_labels, all_preds, average='weighted')\n",
    "    return accuracy, score"
   ]
  },
  {
   "cell_type": "code",
   "execution_count": 61,
   "metadata": {},
   "outputs": [
    {
     "name": "stdout",
     "output_type": "stream",
     "text": [
      "Using device: cuda\n",
      "Training with hidden_dim=32, num_layers=1, lr=0.001, batch_size=16, dropout=0.0, bidirectional=False\n",
      "Validation Accuracy: 0.8796\n",
      "Validation Accuracy: 0.8784\n",
      "Training with hidden_dim=32, num_layers=1, lr=0.001, batch_size=16, dropout=0.0, bidirectional=True\n",
      "Validation Accuracy: 0.8292\n",
      "Validation Accuracy: 0.8280\n",
      "Training with hidden_dim=32, num_layers=1, lr=0.001, batch_size=16, dropout=0.2, bidirectional=False\n"
     ]
    },
    {
     "name": "stderr",
     "output_type": "stream",
     "text": [
      "c:\\Users\\Ricard\\Documents\\Git\\MLEARN\\.venv\\lib\\site-packages\\torch\\nn\\modules\\rnn.py:123: UserWarning: dropout option adds dropout after all but last recurrent layer, so non-zero dropout expects num_layers greater than 1, but got dropout=0.2 and num_layers=1\n",
      "  warnings.warn(\n"
     ]
    },
    {
     "name": "stdout",
     "output_type": "stream",
     "text": [
      "Validation Accuracy: 0.9117\n",
      "Validation Accuracy: 0.9110\n",
      "Training with hidden_dim=32, num_layers=1, lr=0.001, batch_size=16, dropout=0.2, bidirectional=True\n"
     ]
    },
    {
     "name": "stderr",
     "output_type": "stream",
     "text": [
      "c:\\Users\\Ricard\\Documents\\Git\\MLEARN\\.venv\\lib\\site-packages\\torch\\nn\\modules\\rnn.py:123: UserWarning: dropout option adds dropout after all but last recurrent layer, so non-zero dropout expects num_layers greater than 1, but got dropout=0.2 and num_layers=1\n",
      "  warnings.warn(\n"
     ]
    },
    {
     "name": "stdout",
     "output_type": "stream",
     "text": [
      "Validation Accuracy: 0.8608\n",
      "Validation Accuracy: 0.8599\n",
      "Training with hidden_dim=32, num_layers=1, lr=0.001, batch_size=16, dropout=0.5, bidirectional=False\n"
     ]
    },
    {
     "name": "stderr",
     "output_type": "stream",
     "text": [
      "c:\\Users\\Ricard\\Documents\\Git\\MLEARN\\.venv\\lib\\site-packages\\torch\\nn\\modules\\rnn.py:123: UserWarning: dropout option adds dropout after all but last recurrent layer, so non-zero dropout expects num_layers greater than 1, but got dropout=0.5 and num_layers=1\n",
      "  warnings.warn(\n"
     ]
    },
    {
     "name": "stdout",
     "output_type": "stream",
     "text": [
      "Validation Accuracy: 0.8946\n",
      "Validation Accuracy: 0.8936\n",
      "Training with hidden_dim=32, num_layers=1, lr=0.001, batch_size=16, dropout=0.5, bidirectional=True\n"
     ]
    },
    {
     "name": "stderr",
     "output_type": "stream",
     "text": [
      "c:\\Users\\Ricard\\Documents\\Git\\MLEARN\\.venv\\lib\\site-packages\\torch\\nn\\modules\\rnn.py:123: UserWarning: dropout option adds dropout after all but last recurrent layer, so non-zero dropout expects num_layers greater than 1, but got dropout=0.5 and num_layers=1\n",
      "  warnings.warn(\n"
     ]
    },
    {
     "name": "stdout",
     "output_type": "stream",
     "text": [
      "Validation Accuracy: 0.8733\n",
      "Validation Accuracy: 0.8722\n",
      "Training with hidden_dim=32, num_layers=1, lr=0.001, batch_size=32, dropout=0.0, bidirectional=False\n",
      "Validation Accuracy: 0.8225\n",
      "Validation Accuracy: 0.8207\n",
      "Training with hidden_dim=32, num_layers=1, lr=0.001, batch_size=32, dropout=0.0, bidirectional=True\n",
      "Validation Accuracy: 0.8083\n",
      "Validation Accuracy: 0.7986\n",
      "Training with hidden_dim=32, num_layers=1, lr=0.001, batch_size=32, dropout=0.2, bidirectional=False\n"
     ]
    },
    {
     "name": "stderr",
     "output_type": "stream",
     "text": [
      "c:\\Users\\Ricard\\Documents\\Git\\MLEARN\\.venv\\lib\\site-packages\\torch\\nn\\modules\\rnn.py:123: UserWarning: dropout option adds dropout after all but last recurrent layer, so non-zero dropout expects num_layers greater than 1, but got dropout=0.2 and num_layers=1\n",
      "  warnings.warn(\n"
     ]
    },
    {
     "name": "stdout",
     "output_type": "stream",
     "text": [
      "Validation Accuracy: 0.8196\n",
      "Validation Accuracy: 0.8183\n",
      "Training with hidden_dim=32, num_layers=1, lr=0.001, batch_size=32, dropout=0.2, bidirectional=True\n"
     ]
    },
    {
     "name": "stderr",
     "output_type": "stream",
     "text": [
      "c:\\Users\\Ricard\\Documents\\Git\\MLEARN\\.venv\\lib\\site-packages\\torch\\nn\\modules\\rnn.py:123: UserWarning: dropout option adds dropout after all but last recurrent layer, so non-zero dropout expects num_layers greater than 1, but got dropout=0.2 and num_layers=1\n",
      "  warnings.warn(\n"
     ]
    },
    {
     "name": "stdout",
     "output_type": "stream",
     "text": [
      "Validation Accuracy: 0.8250\n",
      "Validation Accuracy: 0.8242\n",
      "Training with hidden_dim=32, num_layers=1, lr=0.001, batch_size=32, dropout=0.5, bidirectional=False\n"
     ]
    },
    {
     "name": "stderr",
     "output_type": "stream",
     "text": [
      "c:\\Users\\Ricard\\Documents\\Git\\MLEARN\\.venv\\lib\\site-packages\\torch\\nn\\modules\\rnn.py:123: UserWarning: dropout option adds dropout after all but last recurrent layer, so non-zero dropout expects num_layers greater than 1, but got dropout=0.5 and num_layers=1\n",
      "  warnings.warn(\n"
     ]
    },
    {
     "name": "stdout",
     "output_type": "stream",
     "text": [
      "Validation Accuracy: 0.7892\n",
      "Validation Accuracy: 0.7776\n",
      "Training with hidden_dim=32, num_layers=1, lr=0.001, batch_size=32, dropout=0.5, bidirectional=True\n"
     ]
    },
    {
     "name": "stderr",
     "output_type": "stream",
     "text": [
      "c:\\Users\\Ricard\\Documents\\Git\\MLEARN\\.venv\\lib\\site-packages\\torch\\nn\\modules\\rnn.py:123: UserWarning: dropout option adds dropout after all but last recurrent layer, so non-zero dropout expects num_layers greater than 1, but got dropout=0.5 and num_layers=1\n",
      "  warnings.warn(\n"
     ]
    },
    {
     "name": "stdout",
     "output_type": "stream",
     "text": [
      "Validation Accuracy: 0.8454\n",
      "Validation Accuracy: 0.8443\n",
      "Training with hidden_dim=32, num_layers=1, lr=0.001, batch_size=64, dropout=0.0, bidirectional=False\n",
      "Validation Accuracy: 0.8183\n",
      "Validation Accuracy: 0.8154\n",
      "Training with hidden_dim=32, num_layers=1, lr=0.001, batch_size=64, dropout=0.0, bidirectional=True\n",
      "Validation Accuracy: 0.8163\n",
      "Validation Accuracy: 0.8148\n",
      "Training with hidden_dim=32, num_layers=1, lr=0.001, batch_size=64, dropout=0.2, bidirectional=False\n"
     ]
    },
    {
     "name": "stderr",
     "output_type": "stream",
     "text": [
      "c:\\Users\\Ricard\\Documents\\Git\\MLEARN\\.venv\\lib\\site-packages\\torch\\nn\\modules\\rnn.py:123: UserWarning: dropout option adds dropout after all but last recurrent layer, so non-zero dropout expects num_layers greater than 1, but got dropout=0.2 and num_layers=1\n",
      "  warnings.warn(\n"
     ]
    },
    {
     "name": "stdout",
     "output_type": "stream",
     "text": [
      "Validation Accuracy: 0.8454\n",
      "Validation Accuracy: 0.8389\n",
      "Training with hidden_dim=32, num_layers=1, lr=0.001, batch_size=64, dropout=0.2, bidirectional=True\n"
     ]
    },
    {
     "name": "stderr",
     "output_type": "stream",
     "text": [
      "c:\\Users\\Ricard\\Documents\\Git\\MLEARN\\.venv\\lib\\site-packages\\torch\\nn\\modules\\rnn.py:123: UserWarning: dropout option adds dropout after all but last recurrent layer, so non-zero dropout expects num_layers greater than 1, but got dropout=0.2 and num_layers=1\n",
      "  warnings.warn(\n"
     ]
    },
    {
     "name": "stdout",
     "output_type": "stream",
     "text": [
      "Validation Accuracy: 0.7987\n",
      "Validation Accuracy: 0.7926\n",
      "Training with hidden_dim=32, num_layers=1, lr=0.001, batch_size=64, dropout=0.5, bidirectional=False\n"
     ]
    },
    {
     "name": "stderr",
     "output_type": "stream",
     "text": [
      "c:\\Users\\Ricard\\Documents\\Git\\MLEARN\\.venv\\lib\\site-packages\\torch\\nn\\modules\\rnn.py:123: UserWarning: dropout option adds dropout after all but last recurrent layer, so non-zero dropout expects num_layers greater than 1, but got dropout=0.5 and num_layers=1\n",
      "  warnings.warn(\n"
     ]
    },
    {
     "name": "stdout",
     "output_type": "stream",
     "text": [
      "Validation Accuracy: 0.8163\n",
      "Validation Accuracy: 0.8124\n",
      "Training with hidden_dim=32, num_layers=1, lr=0.001, batch_size=64, dropout=0.5, bidirectional=True\n"
     ]
    },
    {
     "name": "stderr",
     "output_type": "stream",
     "text": [
      "c:\\Users\\Ricard\\Documents\\Git\\MLEARN\\.venv\\lib\\site-packages\\torch\\nn\\modules\\rnn.py:123: UserWarning: dropout option adds dropout after all but last recurrent layer, so non-zero dropout expects num_layers greater than 1, but got dropout=0.5 and num_layers=1\n",
      "  warnings.warn(\n"
     ]
    },
    {
     "name": "stdout",
     "output_type": "stream",
     "text": [
      "Validation Accuracy: 0.8100\n",
      "Validation Accuracy: 0.8045\n",
      "Training with hidden_dim=32, num_layers=1, lr=0.001, batch_size=128, dropout=0.0, bidirectional=False\n",
      "Validation Accuracy: 0.7404\n",
      "Validation Accuracy: 0.7304\n",
      "Training with hidden_dim=32, num_layers=1, lr=0.001, batch_size=128, dropout=0.0, bidirectional=True\n",
      "Validation Accuracy: 0.7429\n",
      "Validation Accuracy: 0.7326\n",
      "Training with hidden_dim=32, num_layers=1, lr=0.001, batch_size=128, dropout=0.2, bidirectional=False\n"
     ]
    },
    {
     "name": "stderr",
     "output_type": "stream",
     "text": [
      "c:\\Users\\Ricard\\Documents\\Git\\MLEARN\\.venv\\lib\\site-packages\\torch\\nn\\modules\\rnn.py:123: UserWarning: dropout option adds dropout after all but last recurrent layer, so non-zero dropout expects num_layers greater than 1, but got dropout=0.2 and num_layers=1\n",
      "  warnings.warn(\n"
     ]
    },
    {
     "name": "stdout",
     "output_type": "stream",
     "text": [
      "Validation Accuracy: 0.7879\n",
      "Validation Accuracy: 0.7836\n",
      "Training with hidden_dim=32, num_layers=1, lr=0.001, batch_size=128, dropout=0.2, bidirectional=True\n"
     ]
    },
    {
     "name": "stderr",
     "output_type": "stream",
     "text": [
      "c:\\Users\\Ricard\\Documents\\Git\\MLEARN\\.venv\\lib\\site-packages\\torch\\nn\\modules\\rnn.py:123: UserWarning: dropout option adds dropout after all but last recurrent layer, so non-zero dropout expects num_layers greater than 1, but got dropout=0.2 and num_layers=1\n",
      "  warnings.warn(\n"
     ]
    },
    {
     "name": "stdout",
     "output_type": "stream",
     "text": [
      "Validation Accuracy: 0.8029\n",
      "Validation Accuracy: 0.7960\n",
      "Training with hidden_dim=32, num_layers=1, lr=0.001, batch_size=128, dropout=0.5, bidirectional=False\n"
     ]
    },
    {
     "name": "stderr",
     "output_type": "stream",
     "text": [
      "c:\\Users\\Ricard\\Documents\\Git\\MLEARN\\.venv\\lib\\site-packages\\torch\\nn\\modules\\rnn.py:123: UserWarning: dropout option adds dropout after all but last recurrent layer, so non-zero dropout expects num_layers greater than 1, but got dropout=0.5 and num_layers=1\n",
      "  warnings.warn(\n"
     ]
    },
    {
     "name": "stdout",
     "output_type": "stream",
     "text": [
      "Validation Accuracy: 0.7967\n",
      "Validation Accuracy: 0.7941\n",
      "Training with hidden_dim=32, num_layers=1, lr=0.001, batch_size=128, dropout=0.5, bidirectional=True\n"
     ]
    },
    {
     "name": "stderr",
     "output_type": "stream",
     "text": [
      "c:\\Users\\Ricard\\Documents\\Git\\MLEARN\\.venv\\lib\\site-packages\\torch\\nn\\modules\\rnn.py:123: UserWarning: dropout option adds dropout after all but last recurrent layer, so non-zero dropout expects num_layers greater than 1, but got dropout=0.5 and num_layers=1\n",
      "  warnings.warn(\n"
     ]
    },
    {
     "name": "stdout",
     "output_type": "stream",
     "text": [
      "Validation Accuracy: 0.8237\n",
      "Validation Accuracy: 0.8230\n",
      "Training with hidden_dim=32, num_layers=1, lr=0.001, batch_size=256, dropout=0.0, bidirectional=False\n",
      "Validation Accuracy: 0.8033\n",
      "Validation Accuracy: 0.7999\n",
      "Training with hidden_dim=32, num_layers=1, lr=0.001, batch_size=256, dropout=0.0, bidirectional=True\n",
      "Validation Accuracy: 0.7958\n",
      "Validation Accuracy: 0.7890\n",
      "Training with hidden_dim=32, num_layers=1, lr=0.001, batch_size=256, dropout=0.2, bidirectional=False\n"
     ]
    },
    {
     "name": "stderr",
     "output_type": "stream",
     "text": [
      "c:\\Users\\Ricard\\Documents\\Git\\MLEARN\\.venv\\lib\\site-packages\\torch\\nn\\modules\\rnn.py:123: UserWarning: dropout option adds dropout after all but last recurrent layer, so non-zero dropout expects num_layers greater than 1, but got dropout=0.2 and num_layers=1\n",
      "  warnings.warn(\n"
     ]
    },
    {
     "name": "stdout",
     "output_type": "stream",
     "text": [
      "Validation Accuracy: 0.6896\n",
      "Validation Accuracy: 0.6693\n",
      "Training with hidden_dim=32, num_layers=1, lr=0.001, batch_size=256, dropout=0.2, bidirectional=True\n"
     ]
    },
    {
     "name": "stderr",
     "output_type": "stream",
     "text": [
      "c:\\Users\\Ricard\\Documents\\Git\\MLEARN\\.venv\\lib\\site-packages\\torch\\nn\\modules\\rnn.py:123: UserWarning: dropout option adds dropout after all but last recurrent layer, so non-zero dropout expects num_layers greater than 1, but got dropout=0.2 and num_layers=1\n",
      "  warnings.warn(\n"
     ]
    },
    {
     "name": "stdout",
     "output_type": "stream",
     "text": [
      "Validation Accuracy: 0.7171\n",
      "Validation Accuracy: 0.7104\n",
      "Training with hidden_dim=32, num_layers=1, lr=0.001, batch_size=256, dropout=0.5, bidirectional=False\n"
     ]
    },
    {
     "name": "stderr",
     "output_type": "stream",
     "text": [
      "c:\\Users\\Ricard\\Documents\\Git\\MLEARN\\.venv\\lib\\site-packages\\torch\\nn\\modules\\rnn.py:123: UserWarning: dropout option adds dropout after all but last recurrent layer, so non-zero dropout expects num_layers greater than 1, but got dropout=0.5 and num_layers=1\n",
      "  warnings.warn(\n"
     ]
    },
    {
     "name": "stdout",
     "output_type": "stream",
     "text": [
      "Validation Accuracy: 0.7983\n",
      "Validation Accuracy: 0.7954\n",
      "Training with hidden_dim=32, num_layers=1, lr=0.001, batch_size=256, dropout=0.5, bidirectional=True\n"
     ]
    },
    {
     "name": "stderr",
     "output_type": "stream",
     "text": [
      "c:\\Users\\Ricard\\Documents\\Git\\MLEARN\\.venv\\lib\\site-packages\\torch\\nn\\modules\\rnn.py:123: UserWarning: dropout option adds dropout after all but last recurrent layer, so non-zero dropout expects num_layers greater than 1, but got dropout=0.5 and num_layers=1\n",
      "  warnings.warn(\n"
     ]
    },
    {
     "name": "stdout",
     "output_type": "stream",
     "text": [
      "Validation Accuracy: 0.6479\n",
      "Validation Accuracy: 0.5976\n",
      "Training with hidden_dim=32, num_layers=1, lr=0.001, batch_size=512, dropout=0.0, bidirectional=False\n",
      "Validation Accuracy: 0.7958\n",
      "Validation Accuracy: 0.7923\n",
      "Training with hidden_dim=32, num_layers=1, lr=0.001, batch_size=512, dropout=0.0, bidirectional=True\n",
      "Validation Accuracy: 0.7783\n",
      "Validation Accuracy: 0.7750\n",
      "Training with hidden_dim=32, num_layers=1, lr=0.001, batch_size=512, dropout=0.2, bidirectional=False\n"
     ]
    },
    {
     "name": "stderr",
     "output_type": "stream",
     "text": [
      "c:\\Users\\Ricard\\Documents\\Git\\MLEARN\\.venv\\lib\\site-packages\\torch\\nn\\modules\\rnn.py:123: UserWarning: dropout option adds dropout after all but last recurrent layer, so non-zero dropout expects num_layers greater than 1, but got dropout=0.2 and num_layers=1\n",
      "  warnings.warn(\n"
     ]
    },
    {
     "name": "stdout",
     "output_type": "stream",
     "text": [
      "Validation Accuracy: 0.7821\n",
      "Validation Accuracy: 0.7755\n",
      "Training with hidden_dim=32, num_layers=1, lr=0.001, batch_size=512, dropout=0.2, bidirectional=True\n"
     ]
    },
    {
     "name": "stderr",
     "output_type": "stream",
     "text": [
      "c:\\Users\\Ricard\\Documents\\Git\\MLEARN\\.venv\\lib\\site-packages\\torch\\nn\\modules\\rnn.py:123: UserWarning: dropout option adds dropout after all but last recurrent layer, so non-zero dropout expects num_layers greater than 1, but got dropout=0.2 and num_layers=1\n",
      "  warnings.warn(\n"
     ]
    },
    {
     "name": "stdout",
     "output_type": "stream",
     "text": [
      "Validation Accuracy: 0.6550\n",
      "Validation Accuracy: 0.6473\n",
      "Training with hidden_dim=32, num_layers=1, lr=0.001, batch_size=512, dropout=0.5, bidirectional=False\n"
     ]
    },
    {
     "name": "stderr",
     "output_type": "stream",
     "text": [
      "c:\\Users\\Ricard\\Documents\\Git\\MLEARN\\.venv\\lib\\site-packages\\torch\\nn\\modules\\rnn.py:123: UserWarning: dropout option adds dropout after all but last recurrent layer, so non-zero dropout expects num_layers greater than 1, but got dropout=0.5 and num_layers=1\n",
      "  warnings.warn(\n"
     ]
    },
    {
     "name": "stdout",
     "output_type": "stream",
     "text": [
      "Validation Accuracy: 0.6717\n",
      "Validation Accuracy: 0.6560\n",
      "Training with hidden_dim=32, num_layers=1, lr=0.001, batch_size=512, dropout=0.5, bidirectional=True\n"
     ]
    },
    {
     "name": "stderr",
     "output_type": "stream",
     "text": [
      "c:\\Users\\Ricard\\Documents\\Git\\MLEARN\\.venv\\lib\\site-packages\\torch\\nn\\modules\\rnn.py:123: UserWarning: dropout option adds dropout after all but last recurrent layer, so non-zero dropout expects num_layers greater than 1, but got dropout=0.5 and num_layers=1\n",
      "  warnings.warn(\n"
     ]
    },
    {
     "name": "stdout",
     "output_type": "stream",
     "text": [
      "Validation Accuracy: 0.7742\n",
      "Validation Accuracy: 0.7615\n",
      "Training with hidden_dim=32, num_layers=1, lr=0.001, batch_size=1024, dropout=0.0, bidirectional=False\n",
      "Validation Accuracy: 0.6567\n",
      "Validation Accuracy: 0.6382\n",
      "Training with hidden_dim=32, num_layers=1, lr=0.001, batch_size=1024, dropout=0.0, bidirectional=True\n",
      "Validation Accuracy: 0.6350\n",
      "Validation Accuracy: 0.6076\n",
      "Training with hidden_dim=32, num_layers=1, lr=0.001, batch_size=1024, dropout=0.2, bidirectional=False\n"
     ]
    },
    {
     "name": "stderr",
     "output_type": "stream",
     "text": [
      "c:\\Users\\Ricard\\Documents\\Git\\MLEARN\\.venv\\lib\\site-packages\\torch\\nn\\modules\\rnn.py:123: UserWarning: dropout option adds dropout after all but last recurrent layer, so non-zero dropout expects num_layers greater than 1, but got dropout=0.2 and num_layers=1\n",
      "  warnings.warn(\n"
     ]
    },
    {
     "name": "stdout",
     "output_type": "stream",
     "text": [
      "Validation Accuracy: 0.6504\n",
      "Validation Accuracy: 0.6291\n",
      "Training with hidden_dim=32, num_layers=1, lr=0.001, batch_size=1024, dropout=0.2, bidirectional=True\n"
     ]
    },
    {
     "name": "stderr",
     "output_type": "stream",
     "text": [
      "c:\\Users\\Ricard\\Documents\\Git\\MLEARN\\.venv\\lib\\site-packages\\torch\\nn\\modules\\rnn.py:123: UserWarning: dropout option adds dropout after all but last recurrent layer, so non-zero dropout expects num_layers greater than 1, but got dropout=0.2 and num_layers=1\n",
      "  warnings.warn(\n"
     ]
    },
    {
     "name": "stdout",
     "output_type": "stream",
     "text": [
      "Validation Accuracy: 0.7092\n",
      "Validation Accuracy: 0.6945\n",
      "Training with hidden_dim=32, num_layers=1, lr=0.001, batch_size=1024, dropout=0.5, bidirectional=False\n"
     ]
    },
    {
     "name": "stderr",
     "output_type": "stream",
     "text": [
      "c:\\Users\\Ricard\\Documents\\Git\\MLEARN\\.venv\\lib\\site-packages\\torch\\nn\\modules\\rnn.py:123: UserWarning: dropout option adds dropout after all but last recurrent layer, so non-zero dropout expects num_layers greater than 1, but got dropout=0.5 and num_layers=1\n",
      "  warnings.warn(\n"
     ]
    },
    {
     "name": "stdout",
     "output_type": "stream",
     "text": [
      "Validation Accuracy: 0.6421\n",
      "Validation Accuracy: 0.5921\n",
      "Training with hidden_dim=32, num_layers=1, lr=0.001, batch_size=1024, dropout=0.5, bidirectional=True\n"
     ]
    },
    {
     "name": "stderr",
     "output_type": "stream",
     "text": [
      "c:\\Users\\Ricard\\Documents\\Git\\MLEARN\\.venv\\lib\\site-packages\\torch\\nn\\modules\\rnn.py:123: UserWarning: dropout option adds dropout after all but last recurrent layer, so non-zero dropout expects num_layers greater than 1, but got dropout=0.5 and num_layers=1\n",
      "  warnings.warn(\n"
     ]
    },
    {
     "name": "stdout",
     "output_type": "stream",
     "text": [
      "Validation Accuracy: 0.6458\n",
      "Validation Accuracy: 0.6180\n",
      "Training with hidden_dim=32, num_layers=1, lr=0.01, batch_size=16, dropout=0.0, bidirectional=False\n",
      "Validation Accuracy: 0.3317\n",
      "Validation Accuracy: 0.3121\n",
      "Training with hidden_dim=32, num_layers=1, lr=0.01, batch_size=16, dropout=0.0, bidirectional=True\n",
      "Validation Accuracy: 0.8567\n",
      "Validation Accuracy: 0.8571\n",
      "Training with hidden_dim=32, num_layers=1, lr=0.01, batch_size=16, dropout=0.2, bidirectional=False\n"
     ]
    },
    {
     "name": "stderr",
     "output_type": "stream",
     "text": [
      "c:\\Users\\Ricard\\Documents\\Git\\MLEARN\\.venv\\lib\\site-packages\\torch\\nn\\modules\\rnn.py:123: UserWarning: dropout option adds dropout after all but last recurrent layer, so non-zero dropout expects num_layers greater than 1, but got dropout=0.2 and num_layers=1\n",
      "  warnings.warn(\n"
     ]
    },
    {
     "name": "stdout",
     "output_type": "stream",
     "text": [
      "Validation Accuracy: 0.5946\n",
      "Validation Accuracy: 0.5855\n",
      "Training with hidden_dim=32, num_layers=1, lr=0.01, batch_size=16, dropout=0.2, bidirectional=True\n"
     ]
    },
    {
     "name": "stderr",
     "output_type": "stream",
     "text": [
      "c:\\Users\\Ricard\\Documents\\Git\\MLEARN\\.venv\\lib\\site-packages\\torch\\nn\\modules\\rnn.py:123: UserWarning: dropout option adds dropout after all but last recurrent layer, so non-zero dropout expects num_layers greater than 1, but got dropout=0.2 and num_layers=1\n",
      "  warnings.warn(\n"
     ]
    },
    {
     "name": "stdout",
     "output_type": "stream",
     "text": [
      "Validation Accuracy: 0.4829\n",
      "Validation Accuracy: 0.4739\n",
      "Training with hidden_dim=32, num_layers=1, lr=0.01, batch_size=16, dropout=0.5, bidirectional=False\n"
     ]
    },
    {
     "name": "stderr",
     "output_type": "stream",
     "text": [
      "c:\\Users\\Ricard\\Documents\\Git\\MLEARN\\.venv\\lib\\site-packages\\torch\\nn\\modules\\rnn.py:123: UserWarning: dropout option adds dropout after all but last recurrent layer, so non-zero dropout expects num_layers greater than 1, but got dropout=0.5 and num_layers=1\n",
      "  warnings.warn(\n"
     ]
    },
    {
     "name": "stdout",
     "output_type": "stream",
     "text": [
      "Validation Accuracy: 0.3267\n",
      "Validation Accuracy: 0.3041\n",
      "Training with hidden_dim=32, num_layers=1, lr=0.01, batch_size=16, dropout=0.5, bidirectional=True\n"
     ]
    },
    {
     "name": "stderr",
     "output_type": "stream",
     "text": [
      "c:\\Users\\Ricard\\Documents\\Git\\MLEARN\\.venv\\lib\\site-packages\\torch\\nn\\modules\\rnn.py:123: UserWarning: dropout option adds dropout after all but last recurrent layer, so non-zero dropout expects num_layers greater than 1, but got dropout=0.5 and num_layers=1\n",
      "  warnings.warn(\n"
     ]
    },
    {
     "name": "stdout",
     "output_type": "stream",
     "text": [
      "Validation Accuracy: 0.4825\n",
      "Validation Accuracy: 0.4651\n",
      "Training with hidden_dim=32, num_layers=1, lr=0.01, batch_size=32, dropout=0.0, bidirectional=False\n",
      "Validation Accuracy: 0.5162\n",
      "Validation Accuracy: 0.5069\n",
      "Training with hidden_dim=32, num_layers=1, lr=0.01, batch_size=32, dropout=0.0, bidirectional=True\n",
      "Validation Accuracy: 0.5025\n",
      "Validation Accuracy: 0.4874\n",
      "Training with hidden_dim=32, num_layers=1, lr=0.01, batch_size=32, dropout=0.2, bidirectional=False\n"
     ]
    },
    {
     "name": "stderr",
     "output_type": "stream",
     "text": [
      "c:\\Users\\Ricard\\Documents\\Git\\MLEARN\\.venv\\lib\\site-packages\\torch\\nn\\modules\\rnn.py:123: UserWarning: dropout option adds dropout after all but last recurrent layer, so non-zero dropout expects num_layers greater than 1, but got dropout=0.2 and num_layers=1\n",
      "  warnings.warn(\n"
     ]
    },
    {
     "name": "stdout",
     "output_type": "stream",
     "text": [
      "Validation Accuracy: 0.8608\n",
      "Validation Accuracy: 0.8598\n",
      "Training with hidden_dim=32, num_layers=1, lr=0.01, batch_size=32, dropout=0.2, bidirectional=True\n"
     ]
    },
    {
     "name": "stderr",
     "output_type": "stream",
     "text": [
      "c:\\Users\\Ricard\\Documents\\Git\\MLEARN\\.venv\\lib\\site-packages\\torch\\nn\\modules\\rnn.py:123: UserWarning: dropout option adds dropout after all but last recurrent layer, so non-zero dropout expects num_layers greater than 1, but got dropout=0.2 and num_layers=1\n",
      "  warnings.warn(\n"
     ]
    },
    {
     "name": "stdout",
     "output_type": "stream",
     "text": [
      "Validation Accuracy: 0.5658\n",
      "Validation Accuracy: 0.5521\n",
      "Training with hidden_dim=32, num_layers=1, lr=0.01, batch_size=32, dropout=0.5, bidirectional=False\n"
     ]
    },
    {
     "name": "stderr",
     "output_type": "stream",
     "text": [
      "c:\\Users\\Ricard\\Documents\\Git\\MLEARN\\.venv\\lib\\site-packages\\torch\\nn\\modules\\rnn.py:123: UserWarning: dropout option adds dropout after all but last recurrent layer, so non-zero dropout expects num_layers greater than 1, but got dropout=0.5 and num_layers=1\n",
      "  warnings.warn(\n"
     ]
    },
    {
     "name": "stdout",
     "output_type": "stream",
     "text": [
      "Validation Accuracy: 0.4062\n",
      "Validation Accuracy: 0.3986\n",
      "Training with hidden_dim=32, num_layers=1, lr=0.01, batch_size=32, dropout=0.5, bidirectional=True\n"
     ]
    },
    {
     "name": "stderr",
     "output_type": "stream",
     "text": [
      "c:\\Users\\Ricard\\Documents\\Git\\MLEARN\\.venv\\lib\\site-packages\\torch\\nn\\modules\\rnn.py:123: UserWarning: dropout option adds dropout after all but last recurrent layer, so non-zero dropout expects num_layers greater than 1, but got dropout=0.5 and num_layers=1\n",
      "  warnings.warn(\n"
     ]
    },
    {
     "name": "stdout",
     "output_type": "stream",
     "text": [
      "Validation Accuracy: 0.4421\n",
      "Validation Accuracy: 0.4294\n",
      "Training with hidden_dim=32, num_layers=1, lr=0.01, batch_size=64, dropout=0.0, bidirectional=False\n",
      "Validation Accuracy: 0.8483\n",
      "Validation Accuracy: 0.8464\n",
      "Training with hidden_dim=32, num_layers=1, lr=0.01, batch_size=64, dropout=0.0, bidirectional=True\n",
      "Validation Accuracy: 0.7775\n",
      "Validation Accuracy: 0.7704\n",
      "Training with hidden_dim=32, num_layers=1, lr=0.01, batch_size=64, dropout=0.2, bidirectional=False\n"
     ]
    },
    {
     "name": "stderr",
     "output_type": "stream",
     "text": [
      "c:\\Users\\Ricard\\Documents\\Git\\MLEARN\\.venv\\lib\\site-packages\\torch\\nn\\modules\\rnn.py:123: UserWarning: dropout option adds dropout after all but last recurrent layer, so non-zero dropout expects num_layers greater than 1, but got dropout=0.2 and num_layers=1\n",
      "  warnings.warn(\n"
     ]
    },
    {
     "name": "stdout",
     "output_type": "stream",
     "text": [
      "Validation Accuracy: 0.6117\n",
      "Validation Accuracy: 0.6006\n",
      "Training with hidden_dim=32, num_layers=1, lr=0.01, batch_size=64, dropout=0.2, bidirectional=True\n"
     ]
    },
    {
     "name": "stderr",
     "output_type": "stream",
     "text": [
      "c:\\Users\\Ricard\\Documents\\Git\\MLEARN\\.venv\\lib\\site-packages\\torch\\nn\\modules\\rnn.py:123: UserWarning: dropout option adds dropout after all but last recurrent layer, so non-zero dropout expects num_layers greater than 1, but got dropout=0.2 and num_layers=1\n",
      "  warnings.warn(\n"
     ]
    },
    {
     "name": "stdout",
     "output_type": "stream",
     "text": [
      "Validation Accuracy: 0.4600\n",
      "Validation Accuracy: 0.4282\n",
      "Training with hidden_dim=32, num_layers=1, lr=0.01, batch_size=64, dropout=0.5, bidirectional=False\n"
     ]
    },
    {
     "name": "stderr",
     "output_type": "stream",
     "text": [
      "c:\\Users\\Ricard\\Documents\\Git\\MLEARN\\.venv\\lib\\site-packages\\torch\\nn\\modules\\rnn.py:123: UserWarning: dropout option adds dropout after all but last recurrent layer, so non-zero dropout expects num_layers greater than 1, but got dropout=0.5 and num_layers=1\n",
      "  warnings.warn(\n"
     ]
    },
    {
     "name": "stdout",
     "output_type": "stream",
     "text": [
      "Validation Accuracy: 0.4029\n",
      "Validation Accuracy: 0.4003\n",
      "Training with hidden_dim=32, num_layers=1, lr=0.01, batch_size=64, dropout=0.5, bidirectional=True\n"
     ]
    },
    {
     "name": "stderr",
     "output_type": "stream",
     "text": [
      "c:\\Users\\Ricard\\Documents\\Git\\MLEARN\\.venv\\lib\\site-packages\\torch\\nn\\modules\\rnn.py:123: UserWarning: dropout option adds dropout after all but last recurrent layer, so non-zero dropout expects num_layers greater than 1, but got dropout=0.5 and num_layers=1\n",
      "  warnings.warn(\n"
     ]
    },
    {
     "name": "stdout",
     "output_type": "stream",
     "text": [
      "Validation Accuracy: 0.4713\n",
      "Validation Accuracy: 0.4427\n",
      "Training with hidden_dim=32, num_layers=1, lr=0.01, batch_size=128, dropout=0.0, bidirectional=False\n",
      "Validation Accuracy: 0.9533\n",
      "Validation Accuracy: 0.9532\n",
      "Training with hidden_dim=32, num_layers=1, lr=0.01, batch_size=128, dropout=0.0, bidirectional=True\n",
      "Validation Accuracy: 0.9242\n",
      "Validation Accuracy: 0.9237\n",
      "Training with hidden_dim=32, num_layers=1, lr=0.01, batch_size=128, dropout=0.2, bidirectional=False\n"
     ]
    },
    {
     "name": "stderr",
     "output_type": "stream",
     "text": [
      "c:\\Users\\Ricard\\Documents\\Git\\MLEARN\\.venv\\lib\\site-packages\\torch\\nn\\modules\\rnn.py:123: UserWarning: dropout option adds dropout after all but last recurrent layer, so non-zero dropout expects num_layers greater than 1, but got dropout=0.2 and num_layers=1\n",
      "  warnings.warn(\n"
     ]
    },
    {
     "name": "stdout",
     "output_type": "stream",
     "text": [
      "Validation Accuracy: 0.8812\n",
      "Validation Accuracy: 0.8800\n",
      "Training with hidden_dim=32, num_layers=1, lr=0.01, batch_size=128, dropout=0.2, bidirectional=True\n"
     ]
    },
    {
     "name": "stderr",
     "output_type": "stream",
     "text": [
      "c:\\Users\\Ricard\\Documents\\Git\\MLEARN\\.venv\\lib\\site-packages\\torch\\nn\\modules\\rnn.py:123: UserWarning: dropout option adds dropout after all but last recurrent layer, so non-zero dropout expects num_layers greater than 1, but got dropout=0.2 and num_layers=1\n",
      "  warnings.warn(\n"
     ]
    },
    {
     "name": "stdout",
     "output_type": "stream",
     "text": [
      "Validation Accuracy: 0.8462\n",
      "Validation Accuracy: 0.8439\n",
      "Training with hidden_dim=32, num_layers=1, lr=0.01, batch_size=128, dropout=0.5, bidirectional=False\n"
     ]
    },
    {
     "name": "stderr",
     "output_type": "stream",
     "text": [
      "c:\\Users\\Ricard\\Documents\\Git\\MLEARN\\.venv\\lib\\site-packages\\torch\\nn\\modules\\rnn.py:123: UserWarning: dropout option adds dropout after all but last recurrent layer, so non-zero dropout expects num_layers greater than 1, but got dropout=0.5 and num_layers=1\n",
      "  warnings.warn(\n"
     ]
    },
    {
     "name": "stdout",
     "output_type": "stream",
     "text": [
      "Validation Accuracy: 0.9392\n",
      "Validation Accuracy: 0.9388\n",
      "Training with hidden_dim=32, num_layers=1, lr=0.01, batch_size=128, dropout=0.5, bidirectional=True\n"
     ]
    },
    {
     "name": "stderr",
     "output_type": "stream",
     "text": [
      "c:\\Users\\Ricard\\Documents\\Git\\MLEARN\\.venv\\lib\\site-packages\\torch\\nn\\modules\\rnn.py:123: UserWarning: dropout option adds dropout after all but last recurrent layer, so non-zero dropout expects num_layers greater than 1, but got dropout=0.5 and num_layers=1\n",
      "  warnings.warn(\n"
     ]
    },
    {
     "name": "stdout",
     "output_type": "stream",
     "text": [
      "Validation Accuracy: 0.9579\n",
      "Validation Accuracy: 0.9580\n",
      "Training with hidden_dim=32, num_layers=1, lr=0.01, batch_size=256, dropout=0.0, bidirectional=False\n",
      "Validation Accuracy: 0.9275\n",
      "Validation Accuracy: 0.9274\n",
      "Training with hidden_dim=32, num_layers=1, lr=0.01, batch_size=256, dropout=0.0, bidirectional=True\n",
      "Validation Accuracy: 0.9237\n",
      "Validation Accuracy: 0.9234\n",
      "Training with hidden_dim=32, num_layers=1, lr=0.01, batch_size=256, dropout=0.2, bidirectional=False\n"
     ]
    },
    {
     "name": "stderr",
     "output_type": "stream",
     "text": [
      "c:\\Users\\Ricard\\Documents\\Git\\MLEARN\\.venv\\lib\\site-packages\\torch\\nn\\modules\\rnn.py:123: UserWarning: dropout option adds dropout after all but last recurrent layer, so non-zero dropout expects num_layers greater than 1, but got dropout=0.2 and num_layers=1\n",
      "  warnings.warn(\n"
     ]
    },
    {
     "name": "stdout",
     "output_type": "stream",
     "text": [
      "Validation Accuracy: 0.8638\n",
      "Validation Accuracy: 0.8636\n",
      "Training with hidden_dim=32, num_layers=1, lr=0.01, batch_size=256, dropout=0.2, bidirectional=True\n"
     ]
    },
    {
     "name": "stderr",
     "output_type": "stream",
     "text": [
      "c:\\Users\\Ricard\\Documents\\Git\\MLEARN\\.venv\\lib\\site-packages\\torch\\nn\\modules\\rnn.py:123: UserWarning: dropout option adds dropout after all but last recurrent layer, so non-zero dropout expects num_layers greater than 1, but got dropout=0.2 and num_layers=1\n",
      "  warnings.warn(\n"
     ]
    },
    {
     "name": "stdout",
     "output_type": "stream",
     "text": [
      "Validation Accuracy: 0.9237\n",
      "Validation Accuracy: 0.9234\n",
      "Training with hidden_dim=32, num_layers=1, lr=0.01, batch_size=256, dropout=0.5, bidirectional=False\n"
     ]
    },
    {
     "name": "stderr",
     "output_type": "stream",
     "text": [
      "c:\\Users\\Ricard\\Documents\\Git\\MLEARN\\.venv\\lib\\site-packages\\torch\\nn\\modules\\rnn.py:123: UserWarning: dropout option adds dropout after all but last recurrent layer, so non-zero dropout expects num_layers greater than 1, but got dropout=0.5 and num_layers=1\n",
      "  warnings.warn(\n"
     ]
    },
    {
     "name": "stdout",
     "output_type": "stream",
     "text": [
      "Validation Accuracy: 0.9233\n",
      "Validation Accuracy: 0.9230\n",
      "Training with hidden_dim=32, num_layers=1, lr=0.01, batch_size=256, dropout=0.5, bidirectional=True\n"
     ]
    },
    {
     "name": "stderr",
     "output_type": "stream",
     "text": [
      "c:\\Users\\Ricard\\Documents\\Git\\MLEARN\\.venv\\lib\\site-packages\\torch\\nn\\modules\\rnn.py:123: UserWarning: dropout option adds dropout after all but last recurrent layer, so non-zero dropout expects num_layers greater than 1, but got dropout=0.5 and num_layers=1\n",
      "  warnings.warn(\n"
     ]
    },
    {
     "name": "stdout",
     "output_type": "stream",
     "text": [
      "Validation Accuracy: 0.9621\n",
      "Validation Accuracy: 0.9621\n",
      "Training with hidden_dim=32, num_layers=1, lr=0.01, batch_size=512, dropout=0.0, bidirectional=False\n",
      "Validation Accuracy: 0.8688\n",
      "Validation Accuracy: 0.8679\n",
      "Training with hidden_dim=32, num_layers=1, lr=0.01, batch_size=512, dropout=0.0, bidirectional=True\n",
      "Validation Accuracy: 0.9346\n",
      "Validation Accuracy: 0.9347\n",
      "Training with hidden_dim=32, num_layers=1, lr=0.01, batch_size=512, dropout=0.2, bidirectional=False\n"
     ]
    },
    {
     "name": "stderr",
     "output_type": "stream",
     "text": [
      "c:\\Users\\Ricard\\Documents\\Git\\MLEARN\\.venv\\lib\\site-packages\\torch\\nn\\modules\\rnn.py:123: UserWarning: dropout option adds dropout after all but last recurrent layer, so non-zero dropout expects num_layers greater than 1, but got dropout=0.2 and num_layers=1\n",
      "  warnings.warn(\n"
     ]
    },
    {
     "name": "stdout",
     "output_type": "stream",
     "text": [
      "Validation Accuracy: 0.3379\n",
      "Validation Accuracy: 0.3225\n",
      "Training with hidden_dim=32, num_layers=1, lr=0.01, batch_size=512, dropout=0.2, bidirectional=True\n"
     ]
    },
    {
     "name": "stderr",
     "output_type": "stream",
     "text": [
      "c:\\Users\\Ricard\\Documents\\Git\\MLEARN\\.venv\\lib\\site-packages\\torch\\nn\\modules\\rnn.py:123: UserWarning: dropout option adds dropout after all but last recurrent layer, so non-zero dropout expects num_layers greater than 1, but got dropout=0.2 and num_layers=1\n",
      "  warnings.warn(\n"
     ]
    },
    {
     "name": "stdout",
     "output_type": "stream",
     "text": [
      "Validation Accuracy: 0.9371\n",
      "Validation Accuracy: 0.9369\n",
      "Training with hidden_dim=32, num_layers=1, lr=0.01, batch_size=512, dropout=0.5, bidirectional=False\n"
     ]
    },
    {
     "name": "stderr",
     "output_type": "stream",
     "text": [
      "c:\\Users\\Ricard\\Documents\\Git\\MLEARN\\.venv\\lib\\site-packages\\torch\\nn\\modules\\rnn.py:123: UserWarning: dropout option adds dropout after all but last recurrent layer, so non-zero dropout expects num_layers greater than 1, but got dropout=0.5 and num_layers=1\n",
      "  warnings.warn(\n"
     ]
    },
    {
     "name": "stdout",
     "output_type": "stream",
     "text": [
      "Validation Accuracy: 0.9158\n",
      "Validation Accuracy: 0.9153\n",
      "Training with hidden_dim=32, num_layers=1, lr=0.01, batch_size=512, dropout=0.5, bidirectional=True\n"
     ]
    },
    {
     "name": "stderr",
     "output_type": "stream",
     "text": [
      "c:\\Users\\Ricard\\Documents\\Git\\MLEARN\\.venv\\lib\\site-packages\\torch\\nn\\modules\\rnn.py:123: UserWarning: dropout option adds dropout after all but last recurrent layer, so non-zero dropout expects num_layers greater than 1, but got dropout=0.5 and num_layers=1\n",
      "  warnings.warn(\n"
     ]
    },
    {
     "name": "stdout",
     "output_type": "stream",
     "text": [
      "Validation Accuracy: 0.8692\n",
      "Validation Accuracy: 0.8685\n",
      "Training with hidden_dim=32, num_layers=1, lr=0.01, batch_size=1024, dropout=0.0, bidirectional=False\n",
      "Validation Accuracy: 0.8562\n",
      "Validation Accuracy: 0.8555\n",
      "Training with hidden_dim=32, num_layers=1, lr=0.01, batch_size=1024, dropout=0.0, bidirectional=True\n",
      "Validation Accuracy: 0.8425\n",
      "Validation Accuracy: 0.8422\n",
      "Training with hidden_dim=32, num_layers=1, lr=0.01, batch_size=1024, dropout=0.2, bidirectional=False\n"
     ]
    },
    {
     "name": "stderr",
     "output_type": "stream",
     "text": [
      "c:\\Users\\Ricard\\Documents\\Git\\MLEARN\\.venv\\lib\\site-packages\\torch\\nn\\modules\\rnn.py:123: UserWarning: dropout option adds dropout after all but last recurrent layer, so non-zero dropout expects num_layers greater than 1, but got dropout=0.2 and num_layers=1\n",
      "  warnings.warn(\n"
     ]
    },
    {
     "name": "stdout",
     "output_type": "stream",
     "text": [
      "Validation Accuracy: 0.8612\n",
      "Validation Accuracy: 0.8610\n",
      "Training with hidden_dim=32, num_layers=1, lr=0.01, batch_size=1024, dropout=0.2, bidirectional=True\n"
     ]
    },
    {
     "name": "stderr",
     "output_type": "stream",
     "text": [
      "c:\\Users\\Ricard\\Documents\\Git\\MLEARN\\.venv\\lib\\site-packages\\torch\\nn\\modules\\rnn.py:123: UserWarning: dropout option adds dropout after all but last recurrent layer, so non-zero dropout expects num_layers greater than 1, but got dropout=0.2 and num_layers=1\n",
      "  warnings.warn(\n"
     ]
    },
    {
     "name": "stdout",
     "output_type": "stream",
     "text": [
      "Validation Accuracy: 0.8562\n",
      "Validation Accuracy: 0.8553\n",
      "Training with hidden_dim=32, num_layers=1, lr=0.01, batch_size=1024, dropout=0.5, bidirectional=False\n"
     ]
    },
    {
     "name": "stderr",
     "output_type": "stream",
     "text": [
      "c:\\Users\\Ricard\\Documents\\Git\\MLEARN\\.venv\\lib\\site-packages\\torch\\nn\\modules\\rnn.py:123: UserWarning: dropout option adds dropout after all but last recurrent layer, so non-zero dropout expects num_layers greater than 1, but got dropout=0.5 and num_layers=1\n",
      "  warnings.warn(\n"
     ]
    },
    {
     "name": "stdout",
     "output_type": "stream",
     "text": [
      "Validation Accuracy: 0.8646\n",
      "Validation Accuracy: 0.8633\n",
      "Training with hidden_dim=32, num_layers=1, lr=0.01, batch_size=1024, dropout=0.5, bidirectional=True\n"
     ]
    },
    {
     "name": "stderr",
     "output_type": "stream",
     "text": [
      "c:\\Users\\Ricard\\Documents\\Git\\MLEARN\\.venv\\lib\\site-packages\\torch\\nn\\modules\\rnn.py:123: UserWarning: dropout option adds dropout after all but last recurrent layer, so non-zero dropout expects num_layers greater than 1, but got dropout=0.5 and num_layers=1\n",
      "  warnings.warn(\n"
     ]
    },
    {
     "name": "stdout",
     "output_type": "stream",
     "text": [
      "Validation Accuracy: 0.8438\n",
      "Validation Accuracy: 0.8412\n",
      "Training with hidden_dim=32, num_layers=2, lr=0.001, batch_size=16, dropout=0.0, bidirectional=False\n",
      "Validation Accuracy: 0.9729\n",
      "Validation Accuracy: 0.9729\n",
      "Training with hidden_dim=32, num_layers=2, lr=0.001, batch_size=16, dropout=0.0, bidirectional=True\n",
      "Validation Accuracy: 0.9604\n",
      "Validation Accuracy: 0.9606\n",
      "Training with hidden_dim=32, num_layers=2, lr=0.001, batch_size=16, dropout=0.2, bidirectional=False\n",
      "Validation Accuracy: 0.9688\n",
      "Validation Accuracy: 0.9688\n",
      "Training with hidden_dim=32, num_layers=2, lr=0.001, batch_size=16, dropout=0.2, bidirectional=True\n",
      "Validation Accuracy: 0.9779\n",
      "Validation Accuracy: 0.9779\n",
      "Training with hidden_dim=32, num_layers=2, lr=0.001, batch_size=16, dropout=0.5, bidirectional=False\n",
      "Validation Accuracy: 0.9671\n",
      "Validation Accuracy: 0.9670\n",
      "Training with hidden_dim=32, num_layers=2, lr=0.001, batch_size=16, dropout=0.5, bidirectional=True\n",
      "Validation Accuracy: 0.9758\n",
      "Validation Accuracy: 0.9759\n",
      "Training with hidden_dim=32, num_layers=2, lr=0.001, batch_size=32, dropout=0.0, bidirectional=False\n",
      "Validation Accuracy: 0.9521\n",
      "Validation Accuracy: 0.9518\n",
      "Training with hidden_dim=32, num_layers=2, lr=0.001, batch_size=32, dropout=0.0, bidirectional=True\n",
      "Validation Accuracy: 0.9696\n",
      "Validation Accuracy: 0.9695\n",
      "Training with hidden_dim=32, num_layers=2, lr=0.001, batch_size=32, dropout=0.2, bidirectional=False\n",
      "Validation Accuracy: 0.9688\n",
      "Validation Accuracy: 0.9687\n",
      "Training with hidden_dim=32, num_layers=2, lr=0.001, batch_size=32, dropout=0.2, bidirectional=True\n",
      "Validation Accuracy: 0.9754\n",
      "Validation Accuracy: 0.9754\n",
      "Training with hidden_dim=32, num_layers=2, lr=0.001, batch_size=32, dropout=0.5, bidirectional=False\n",
      "Validation Accuracy: 0.9712\n",
      "Validation Accuracy: 0.9712\n",
      "Training with hidden_dim=32, num_layers=2, lr=0.001, batch_size=32, dropout=0.5, bidirectional=True\n",
      "Validation Accuracy: 0.9675\n",
      "Validation Accuracy: 0.9674\n",
      "Training with hidden_dim=32, num_layers=2, lr=0.001, batch_size=64, dropout=0.0, bidirectional=False\n",
      "Validation Accuracy: 0.9375\n",
      "Validation Accuracy: 0.9373\n",
      "Training with hidden_dim=32, num_layers=2, lr=0.001, batch_size=64, dropout=0.0, bidirectional=True\n",
      "Validation Accuracy: 0.9654\n",
      "Validation Accuracy: 0.9655\n",
      "Training with hidden_dim=32, num_layers=2, lr=0.001, batch_size=64, dropout=0.2, bidirectional=False\n",
      "Validation Accuracy: 0.9517\n",
      "Validation Accuracy: 0.9515\n",
      "Training with hidden_dim=32, num_layers=2, lr=0.001, batch_size=64, dropout=0.2, bidirectional=True\n",
      "Validation Accuracy: 0.9700\n",
      "Validation Accuracy: 0.9700\n",
      "Training with hidden_dim=32, num_layers=2, lr=0.001, batch_size=64, dropout=0.5, bidirectional=False\n",
      "Validation Accuracy: 0.9196\n",
      "Validation Accuracy: 0.9183\n",
      "Training with hidden_dim=32, num_layers=2, lr=0.001, batch_size=64, dropout=0.5, bidirectional=True\n",
      "Validation Accuracy: 0.9408\n",
      "Validation Accuracy: 0.9407\n",
      "Training with hidden_dim=32, num_layers=2, lr=0.001, batch_size=128, dropout=0.0, bidirectional=False\n",
      "Validation Accuracy: 0.8550\n",
      "Validation Accuracy: 0.8533\n",
      "Training with hidden_dim=32, num_layers=2, lr=0.001, batch_size=128, dropout=0.0, bidirectional=True\n",
      "Validation Accuracy: 0.9221\n",
      "Validation Accuracy: 0.9222\n",
      "Training with hidden_dim=32, num_layers=2, lr=0.001, batch_size=128, dropout=0.2, bidirectional=False\n",
      "Validation Accuracy: 0.9096\n",
      "Validation Accuracy: 0.9093\n",
      "Training with hidden_dim=32, num_layers=2, lr=0.001, batch_size=128, dropout=0.2, bidirectional=True\n",
      "Validation Accuracy: 0.9367\n",
      "Validation Accuracy: 0.9365\n",
      "Training with hidden_dim=32, num_layers=2, lr=0.001, batch_size=128, dropout=0.5, bidirectional=False\n",
      "Validation Accuracy: 0.8529\n",
      "Validation Accuracy: 0.8463\n",
      "Training with hidden_dim=32, num_layers=2, lr=0.001, batch_size=128, dropout=0.5, bidirectional=True\n",
      "Validation Accuracy: 0.9008\n",
      "Validation Accuracy: 0.9002\n",
      "Training with hidden_dim=32, num_layers=2, lr=0.001, batch_size=256, dropout=0.0, bidirectional=False\n",
      "Validation Accuracy: 0.8375\n",
      "Validation Accuracy: 0.8377\n",
      "Training with hidden_dim=32, num_layers=2, lr=0.001, batch_size=256, dropout=0.0, bidirectional=True\n",
      "Validation Accuracy: 0.9287\n",
      "Validation Accuracy: 0.9286\n",
      "Training with hidden_dim=32, num_layers=2, lr=0.001, batch_size=256, dropout=0.2, bidirectional=False\n",
      "Validation Accuracy: 0.8429\n",
      "Validation Accuracy: 0.8420\n",
      "Training with hidden_dim=32, num_layers=2, lr=0.001, batch_size=256, dropout=0.2, bidirectional=True\n",
      "Validation Accuracy: 0.8329\n",
      "Validation Accuracy: 0.8327\n",
      "Training with hidden_dim=32, num_layers=2, lr=0.001, batch_size=256, dropout=0.5, bidirectional=False\n",
      "Validation Accuracy: 0.8204\n",
      "Validation Accuracy: 0.8197\n",
      "Training with hidden_dim=32, num_layers=2, lr=0.001, batch_size=256, dropout=0.5, bidirectional=True\n",
      "Validation Accuracy: 0.8229\n",
      "Validation Accuracy: 0.8185\n",
      "Training with hidden_dim=32, num_layers=2, lr=0.001, batch_size=512, dropout=0.0, bidirectional=False\n",
      "Validation Accuracy: 0.8067\n",
      "Validation Accuracy: 0.8030\n",
      "Training with hidden_dim=32, num_layers=2, lr=0.001, batch_size=512, dropout=0.0, bidirectional=True\n",
      "Validation Accuracy: 0.8204\n",
      "Validation Accuracy: 0.8176\n",
      "Training with hidden_dim=32, num_layers=2, lr=0.001, batch_size=512, dropout=0.2, bidirectional=False\n",
      "Validation Accuracy: 0.8113\n",
      "Validation Accuracy: 0.8055\n",
      "Training with hidden_dim=32, num_layers=2, lr=0.001, batch_size=512, dropout=0.2, bidirectional=True\n",
      "Validation Accuracy: 0.8142\n",
      "Validation Accuracy: 0.8105\n",
      "Training with hidden_dim=32, num_layers=2, lr=0.001, batch_size=512, dropout=0.5, bidirectional=False\n",
      "Validation Accuracy: 0.7462\n",
      "Validation Accuracy: 0.7526\n",
      "Training with hidden_dim=32, num_layers=2, lr=0.001, batch_size=512, dropout=0.5, bidirectional=True\n",
      "Validation Accuracy: 0.8150\n",
      "Validation Accuracy: 0.8139\n",
      "Training with hidden_dim=32, num_layers=2, lr=0.001, batch_size=1024, dropout=0.0, bidirectional=False\n",
      "Validation Accuracy: 0.6562\n",
      "Validation Accuracy: 0.6451\n",
      "Training with hidden_dim=32, num_layers=2, lr=0.001, batch_size=1024, dropout=0.0, bidirectional=True\n",
      "Validation Accuracy: 0.8137\n",
      "Validation Accuracy: 0.8120\n",
      "Training with hidden_dim=32, num_layers=2, lr=0.001, batch_size=1024, dropout=0.2, bidirectional=False\n",
      "Validation Accuracy: 0.8096\n",
      "Validation Accuracy: 0.8049\n",
      "Training with hidden_dim=32, num_layers=2, lr=0.001, batch_size=1024, dropout=0.2, bidirectional=True\n",
      "Validation Accuracy: 0.7438\n",
      "Validation Accuracy: 0.7332\n",
      "Training with hidden_dim=32, num_layers=2, lr=0.001, batch_size=1024, dropout=0.5, bidirectional=False\n",
      "Validation Accuracy: 0.7933\n",
      "Validation Accuracy: 0.7855\n",
      "Training with hidden_dim=32, num_layers=2, lr=0.001, batch_size=1024, dropout=0.5, bidirectional=True\n",
      "Validation Accuracy: 0.8067\n",
      "Validation Accuracy: 0.8040\n",
      "Training with hidden_dim=32, num_layers=2, lr=0.01, batch_size=16, dropout=0.0, bidirectional=False\n",
      "Validation Accuracy: 0.8267\n",
      "Validation Accuracy: 0.8246\n",
      "Training with hidden_dim=32, num_layers=2, lr=0.01, batch_size=16, dropout=0.0, bidirectional=True\n",
      "Validation Accuracy: 0.5563\n",
      "Validation Accuracy: 0.5583\n",
      "Training with hidden_dim=32, num_layers=2, lr=0.01, batch_size=16, dropout=0.2, bidirectional=False\n",
      "Validation Accuracy: 0.6633\n",
      "Validation Accuracy: 0.6060\n",
      "Training with hidden_dim=32, num_layers=2, lr=0.01, batch_size=16, dropout=0.2, bidirectional=True\n",
      "Validation Accuracy: 0.7362\n",
      "Validation Accuracy: 0.7243\n",
      "Training with hidden_dim=32, num_layers=2, lr=0.01, batch_size=16, dropout=0.5, bidirectional=False\n",
      "Validation Accuracy: 0.4154\n",
      "Validation Accuracy: 0.3094\n",
      "Training with hidden_dim=32, num_layers=2, lr=0.01, batch_size=16, dropout=0.5, bidirectional=True\n",
      "Validation Accuracy: 0.2425\n",
      "Validation Accuracy: 0.1425\n",
      "Training with hidden_dim=32, num_layers=2, lr=0.01, batch_size=32, dropout=0.0, bidirectional=False\n",
      "Validation Accuracy: 0.3862\n",
      "Validation Accuracy: 0.3610\n",
      "Training with hidden_dim=32, num_layers=2, lr=0.01, batch_size=32, dropout=0.0, bidirectional=True\n",
      "Validation Accuracy: 0.9179\n",
      "Validation Accuracy: 0.9173\n",
      "Training with hidden_dim=32, num_layers=2, lr=0.01, batch_size=32, dropout=0.2, bidirectional=False\n",
      "Validation Accuracy: 0.8350\n",
      "Validation Accuracy: 0.8219\n",
      "Training with hidden_dim=32, num_layers=2, lr=0.01, batch_size=32, dropout=0.2, bidirectional=True\n",
      "Validation Accuracy: 0.7179\n",
      "Validation Accuracy: 0.6963\n",
      "Training with hidden_dim=32, num_layers=2, lr=0.01, batch_size=32, dropout=0.5, bidirectional=False\n",
      "Validation Accuracy: 0.7567\n",
      "Validation Accuracy: 0.7383\n",
      "Training with hidden_dim=32, num_layers=2, lr=0.01, batch_size=32, dropout=0.5, bidirectional=True\n",
      "Validation Accuracy: 0.3971\n",
      "Validation Accuracy: 0.2643\n",
      "Training with hidden_dim=32, num_layers=2, lr=0.01, batch_size=64, dropout=0.0, bidirectional=False\n",
      "Validation Accuracy: 0.7075\n",
      "Validation Accuracy: 0.6863\n",
      "Training with hidden_dim=32, num_layers=2, lr=0.01, batch_size=64, dropout=0.0, bidirectional=True\n",
      "Validation Accuracy: 0.9267\n",
      "Validation Accuracy: 0.9265\n",
      "Training with hidden_dim=32, num_layers=2, lr=0.01, batch_size=64, dropout=0.2, bidirectional=False\n",
      "Validation Accuracy: 0.8000\n",
      "Validation Accuracy: 0.7841\n",
      "Training with hidden_dim=32, num_layers=2, lr=0.01, batch_size=64, dropout=0.2, bidirectional=True\n",
      "Validation Accuracy: 0.7750\n",
      "Validation Accuracy: 0.7631\n",
      "Training with hidden_dim=32, num_layers=2, lr=0.01, batch_size=64, dropout=0.5, bidirectional=False\n",
      "Validation Accuracy: 0.8646\n",
      "Validation Accuracy: 0.8595\n",
      "Training with hidden_dim=32, num_layers=2, lr=0.01, batch_size=64, dropout=0.5, bidirectional=True\n",
      "Validation Accuracy: 0.6663\n",
      "Validation Accuracy: 0.6376\n",
      "Training with hidden_dim=32, num_layers=2, lr=0.01, batch_size=128, dropout=0.0, bidirectional=False\n",
      "Validation Accuracy: 0.9762\n",
      "Validation Accuracy: 0.9762\n",
      "Training with hidden_dim=32, num_layers=2, lr=0.01, batch_size=128, dropout=0.0, bidirectional=True\n",
      "Validation Accuracy: 0.9821\n",
      "Validation Accuracy: 0.9821\n",
      "Training with hidden_dim=32, num_layers=2, lr=0.01, batch_size=128, dropout=0.2, bidirectional=False\n",
      "Validation Accuracy: 0.9738\n",
      "Validation Accuracy: 0.9736\n",
      "Training with hidden_dim=32, num_layers=2, lr=0.01, batch_size=128, dropout=0.2, bidirectional=True\n",
      "Validation Accuracy: 0.9725\n",
      "Validation Accuracy: 0.9724\n",
      "Training with hidden_dim=32, num_layers=2, lr=0.01, batch_size=128, dropout=0.5, bidirectional=False\n",
      "Validation Accuracy: 0.9721\n",
      "Validation Accuracy: 0.9720\n",
      "Training with hidden_dim=32, num_layers=2, lr=0.01, batch_size=128, dropout=0.5, bidirectional=True\n",
      "Validation Accuracy: 0.7825\n",
      "Validation Accuracy: 0.7628\n",
      "Training with hidden_dim=32, num_layers=2, lr=0.01, batch_size=256, dropout=0.0, bidirectional=False\n",
      "Validation Accuracy: 0.9725\n",
      "Validation Accuracy: 0.9725\n",
      "Training with hidden_dim=32, num_layers=2, lr=0.01, batch_size=256, dropout=0.0, bidirectional=True\n",
      "Validation Accuracy: 0.9800\n",
      "Validation Accuracy: 0.9800\n",
      "Training with hidden_dim=32, num_layers=2, lr=0.01, batch_size=256, dropout=0.2, bidirectional=False\n",
      "Validation Accuracy: 0.9796\n",
      "Validation Accuracy: 0.9796\n",
      "Training with hidden_dim=32, num_layers=2, lr=0.01, batch_size=256, dropout=0.2, bidirectional=True\n",
      "Validation Accuracy: 0.9279\n",
      "Validation Accuracy: 0.9279\n",
      "Training with hidden_dim=32, num_layers=2, lr=0.01, batch_size=256, dropout=0.5, bidirectional=False\n",
      "Validation Accuracy: 0.9783\n",
      "Validation Accuracy: 0.9783\n",
      "Training with hidden_dim=32, num_layers=2, lr=0.01, batch_size=256, dropout=0.5, bidirectional=True\n",
      "Validation Accuracy: 0.9475\n",
      "Validation Accuracy: 0.9471\n",
      "Training with hidden_dim=32, num_layers=2, lr=0.01, batch_size=512, dropout=0.0, bidirectional=False\n",
      "Validation Accuracy: 0.9625\n",
      "Validation Accuracy: 0.9628\n",
      "Training with hidden_dim=32, num_layers=2, lr=0.01, batch_size=512, dropout=0.0, bidirectional=True\n",
      "Validation Accuracy: 0.9479\n",
      "Validation Accuracy: 0.9475\n",
      "Training with hidden_dim=32, num_layers=2, lr=0.01, batch_size=512, dropout=0.2, bidirectional=False\n",
      "Validation Accuracy: 0.9733\n",
      "Validation Accuracy: 0.9733\n",
      "Training with hidden_dim=32, num_layers=2, lr=0.01, batch_size=512, dropout=0.2, bidirectional=True\n",
      "Validation Accuracy: 0.9733\n",
      "Validation Accuracy: 0.9733\n",
      "Training with hidden_dim=32, num_layers=2, lr=0.01, batch_size=512, dropout=0.5, bidirectional=False\n",
      "Validation Accuracy: 0.9600\n",
      "Validation Accuracy: 0.9598\n",
      "Training with hidden_dim=32, num_layers=2, lr=0.01, batch_size=512, dropout=0.5, bidirectional=True\n",
      "Validation Accuracy: 0.9775\n",
      "Validation Accuracy: 0.9774\n",
      "Training with hidden_dim=32, num_layers=2, lr=0.01, batch_size=1024, dropout=0.0, bidirectional=False\n",
      "Validation Accuracy: 0.9742\n",
      "Validation Accuracy: 0.9741\n",
      "Training with hidden_dim=32, num_layers=2, lr=0.01, batch_size=1024, dropout=0.0, bidirectional=True\n",
      "Validation Accuracy: 0.9567\n",
      "Validation Accuracy: 0.9567\n",
      "Training with hidden_dim=32, num_layers=2, lr=0.01, batch_size=1024, dropout=0.2, bidirectional=False\n",
      "Validation Accuracy: 0.9663\n",
      "Validation Accuracy: 0.9662\n",
      "Training with hidden_dim=32, num_layers=2, lr=0.01, batch_size=1024, dropout=0.2, bidirectional=True\n",
      "Validation Accuracy: 0.9688\n",
      "Validation Accuracy: 0.9687\n",
      "Training with hidden_dim=32, num_layers=2, lr=0.01, batch_size=1024, dropout=0.5, bidirectional=False\n",
      "Validation Accuracy: 0.9525\n",
      "Validation Accuracy: 0.9522\n",
      "Training with hidden_dim=32, num_layers=2, lr=0.01, batch_size=1024, dropout=0.5, bidirectional=True\n",
      "Validation Accuracy: 0.9633\n",
      "Validation Accuracy: 0.9633\n",
      "Training with hidden_dim=32, num_layers=3, lr=0.001, batch_size=16, dropout=0.0, bidirectional=False\n",
      "Validation Accuracy: 0.9808\n",
      "Validation Accuracy: 0.9808\n",
      "Training with hidden_dim=32, num_layers=3, lr=0.001, batch_size=16, dropout=0.0, bidirectional=True\n",
      "Validation Accuracy: 0.9900\n",
      "Validation Accuracy: 0.9900\n",
      "Training with hidden_dim=32, num_layers=3, lr=0.001, batch_size=16, dropout=0.2, bidirectional=False\n",
      "Validation Accuracy: 0.9804\n",
      "Validation Accuracy: 0.9804\n",
      "Training with hidden_dim=32, num_layers=3, lr=0.001, batch_size=16, dropout=0.2, bidirectional=True\n",
      "Validation Accuracy: 0.9821\n",
      "Validation Accuracy: 0.9820\n",
      "Training with hidden_dim=32, num_layers=3, lr=0.001, batch_size=16, dropout=0.5, bidirectional=False\n",
      "Validation Accuracy: 0.9812\n",
      "Validation Accuracy: 0.9812\n",
      "Training with hidden_dim=32, num_layers=3, lr=0.001, batch_size=16, dropout=0.5, bidirectional=True\n",
      "Validation Accuracy: 0.9883\n",
      "Validation Accuracy: 0.9883\n",
      "Training with hidden_dim=32, num_layers=3, lr=0.001, batch_size=32, dropout=0.0, bidirectional=False\n",
      "Validation Accuracy: 0.9788\n",
      "Validation Accuracy: 0.9788\n",
      "Training with hidden_dim=32, num_layers=3, lr=0.001, batch_size=32, dropout=0.0, bidirectional=True\n",
      "Validation Accuracy: 0.9775\n",
      "Validation Accuracy: 0.9775\n",
      "Training with hidden_dim=32, num_layers=3, lr=0.001, batch_size=32, dropout=0.2, bidirectional=False\n",
      "Validation Accuracy: 0.9788\n",
      "Validation Accuracy: 0.9788\n",
      "Training with hidden_dim=32, num_layers=3, lr=0.001, batch_size=32, dropout=0.2, bidirectional=True\n",
      "Validation Accuracy: 0.9842\n",
      "Validation Accuracy: 0.9842\n",
      "Training with hidden_dim=32, num_layers=3, lr=0.001, batch_size=32, dropout=0.5, bidirectional=False\n",
      "Validation Accuracy: 0.9725\n",
      "Validation Accuracy: 0.9725\n",
      "Training with hidden_dim=32, num_layers=3, lr=0.001, batch_size=32, dropout=0.5, bidirectional=True\n",
      "Validation Accuracy: 0.9821\n",
      "Validation Accuracy: 0.9821\n",
      "Training with hidden_dim=32, num_layers=3, lr=0.001, batch_size=64, dropout=0.0, bidirectional=False\n",
      "Validation Accuracy: 0.9742\n",
      "Validation Accuracy: 0.9741\n",
      "Training with hidden_dim=32, num_layers=3, lr=0.001, batch_size=64, dropout=0.0, bidirectional=True\n",
      "Validation Accuracy: 0.9733\n",
      "Validation Accuracy: 0.9733\n",
      "Training with hidden_dim=32, num_layers=3, lr=0.001, batch_size=64, dropout=0.2, bidirectional=False\n",
      "Validation Accuracy: 0.9721\n",
      "Validation Accuracy: 0.9720\n",
      "Training with hidden_dim=32, num_layers=3, lr=0.001, batch_size=64, dropout=0.2, bidirectional=True\n",
      "Validation Accuracy: 0.9771\n",
      "Validation Accuracy: 0.9770\n",
      "Training with hidden_dim=32, num_layers=3, lr=0.001, batch_size=64, dropout=0.5, bidirectional=False\n",
      "Validation Accuracy: 0.9646\n",
      "Validation Accuracy: 0.9644\n",
      "Training with hidden_dim=32, num_layers=3, lr=0.001, batch_size=64, dropout=0.5, bidirectional=True\n",
      "Validation Accuracy: 0.9750\n",
      "Validation Accuracy: 0.9749\n",
      "Training with hidden_dim=32, num_layers=3, lr=0.001, batch_size=128, dropout=0.0, bidirectional=False\n",
      "Validation Accuracy: 0.9042\n",
      "Validation Accuracy: 0.9040\n",
      "Training with hidden_dim=32, num_layers=3, lr=0.001, batch_size=128, dropout=0.0, bidirectional=True\n",
      "Validation Accuracy: 0.9679\n",
      "Validation Accuracy: 0.9679\n",
      "Training with hidden_dim=32, num_layers=3, lr=0.001, batch_size=128, dropout=0.2, bidirectional=False\n",
      "Validation Accuracy: 0.9804\n",
      "Validation Accuracy: 0.9804\n",
      "Training with hidden_dim=32, num_layers=3, lr=0.001, batch_size=128, dropout=0.2, bidirectional=True\n",
      "Validation Accuracy: 0.9683\n",
      "Validation Accuracy: 0.9683\n",
      "Training with hidden_dim=32, num_layers=3, lr=0.001, batch_size=128, dropout=0.5, bidirectional=False\n",
      "Validation Accuracy: 0.9317\n",
      "Validation Accuracy: 0.9309\n",
      "Training with hidden_dim=32, num_layers=3, lr=0.001, batch_size=128, dropout=0.5, bidirectional=True\n"
     ]
    },
    {
     "ename": "KeyboardInterrupt",
     "evalue": "",
     "output_type": "error",
     "traceback": [
      "\u001b[1;31m---------------------------------------------------------------------------\u001b[0m",
      "\u001b[1;31mKeyboardInterrupt\u001b[0m                         Traceback (most recent call last)",
      "Cell \u001b[1;32mIn[61], line 37\u001b[0m\n\u001b[0;32m     33\u001b[0m \u001b[38;5;66;03m# Initialize and train the model\u001b[39;00m\n\u001b[0;32m     34\u001b[0m model \u001b[38;5;241m=\u001b[39m RNNClassifier(input_dim\u001b[38;5;241m=\u001b[39m\u001b[38;5;241m3\u001b[39m, hidden_dim\u001b[38;5;241m=\u001b[39mhidden_dim, num_layers\u001b[38;5;241m=\u001b[39mnum_layer, num_classes\u001b[38;5;241m=\u001b[39mnum_classes, \n\u001b[0;32m     35\u001b[0m                       bidirectional\u001b[38;5;241m=\u001b[39mbidirectional, dropout\u001b[38;5;241m=\u001b[39mdropout)\u001b[38;5;241m.\u001b[39mto(device)\n\u001b[1;32m---> 37\u001b[0m accuracy, score \u001b[38;5;241m=\u001b[39m \u001b[43mtrain_model\u001b[49m\u001b[43m(\u001b[49m\u001b[43mmodel\u001b[49m\u001b[43m,\u001b[49m\u001b[43m \u001b[49m\u001b[43mtrain_loader\u001b[49m\u001b[43m,\u001b[49m\u001b[43m \u001b[49m\u001b[43mval_loader\u001b[49m\u001b[43m,\u001b[49m\u001b[43m \u001b[49m\u001b[43mepochs\u001b[49m\u001b[43m,\u001b[49m\u001b[43m \u001b[49m\u001b[43mlearning_rate\u001b[49m\u001b[43m,\u001b[49m\u001b[43m \u001b[49m\u001b[43mbatch_size\u001b[49m\u001b[43m)\u001b[49m\n\u001b[0;32m     39\u001b[0m \u001b[38;5;28mprint\u001b[39m(\u001b[38;5;124mf\u001b[39m\u001b[38;5;124m\"\u001b[39m\u001b[38;5;124mValidation Accuracy: \u001b[39m\u001b[38;5;132;01m{\u001b[39;00maccuracy\u001b[38;5;132;01m:\u001b[39;00m\u001b[38;5;124m.4f\u001b[39m\u001b[38;5;132;01m}\u001b[39;00m\u001b[38;5;124m\"\u001b[39m)\n\u001b[0;32m     40\u001b[0m \u001b[38;5;28mprint\u001b[39m(\u001b[38;5;124mf\u001b[39m\u001b[38;5;124m\"\u001b[39m\u001b[38;5;124mValidation Accuracy: \u001b[39m\u001b[38;5;132;01m{\u001b[39;00mscore\u001b[38;5;132;01m:\u001b[39;00m\u001b[38;5;124m.4f\u001b[39m\u001b[38;5;132;01m}\u001b[39;00m\u001b[38;5;124m\"\u001b[39m)\n",
      "Cell \u001b[1;32mIn[57], line 8\u001b[0m, in \u001b[0;36mtrain_model\u001b[1;34m(model, train_loader, val_loader, epochs, learning_rate, batch_size)\u001b[0m\n\u001b[0;32m      6\u001b[0m model\u001b[38;5;241m.\u001b[39mtrain()\n\u001b[0;32m      7\u001b[0m \u001b[38;5;28;01mfor\u001b[39;00m features, labels \u001b[38;5;129;01min\u001b[39;00m train_loader:\n\u001b[1;32m----> 8\u001b[0m     features, labels \u001b[38;5;241m=\u001b[39m \u001b[43mfeatures\u001b[49m\u001b[38;5;241;43m.\u001b[39;49m\u001b[43mto\u001b[49m\u001b[43m(\u001b[49m\u001b[43mdevice\u001b[49m\u001b[43m)\u001b[49m, labels\u001b[38;5;241m.\u001b[39mto(device)\n\u001b[0;32m     10\u001b[0m     features \u001b[38;5;241m=\u001b[39m reformat_tensor(features)\n\u001b[0;32m     12\u001b[0m     optimizer\u001b[38;5;241m.\u001b[39mzero_grad()\n",
      "\u001b[1;31mKeyboardInterrupt\u001b[0m: "
     ]
    }
   ],
   "source": [
    "from itertools import product\n",
    "\n",
    "hidden_dims = [32, 64, 128, 256, 512, 1024, 2048]\n",
    "num_layers = [1, 2, 3, 4]\n",
    "learning_rates = [0.001, 0.01]\n",
    "batch_sizes = [16, 32, 64, 128, 256, 512, 1024]\n",
    "dropouts = [0.0, 0.2, 0.5]\n",
    "bidirectionals = [False, True]\n",
    "    \n",
    "best_accuracy = 0\n",
    "best_f1_score = 0\n",
    "best_params = None\n",
    "\n",
    "# Prepare Data\n",
    "dataset = CustomDataset()\n",
    "train_size = int(0.8 * len(dataset))  # 80% for training\n",
    "test_size = len(dataset) - train_size  # 20% for testing\n",
    "train_data, test_data = random_split(dataset, [train_size, test_size])\n",
    "\n",
    "device = torch.device(\"cuda\" if torch.cuda.is_available() else \"cpu\")\n",
    "print(f\"Using device: {device}\")\n",
    "\n",
    "# Generate all combinations of hyperparameters\n",
    "hyperparameter_combinations = product(hidden_dims, num_layers, learning_rates, batch_sizes, dropouts, bidirectionals)\n",
    "\n",
    "for hidden_dim, num_layer, learning_rate, batch_size, dropout, bidirectional in hyperparameter_combinations:\n",
    "        print(f\"Training with hidden_dim={hidden_dim}, num_layers={num_layer}, lr={learning_rate}, batch_size={batch_size}, dropout={dropout}, bidirectional={bidirectional}\")\n",
    "        \n",
    "        # Create DataLoader for current batch_size\n",
    "        train_loader = DataLoader(train_data, batch_size=batch_size, shuffle=True)\n",
    "        val_loader = DataLoader(test_data, batch_size=batch_size, shuffle=False)\n",
    "\n",
    "        # Initialize and train the model\n",
    "        model = RNNClassifier(input_dim=3, hidden_dim=hidden_dim, num_layers=num_layer, num_classes=num_classes, \n",
    "                              bidirectional=bidirectional, dropout=dropout).to(device)\n",
    "        \n",
    "        accuracy, score = train_model(model, train_loader, val_loader, epochs, learning_rate, batch_size)\n",
    "        \n",
    "        print(f\"Validation Accuracy: {accuracy:.4f}\")\n",
    "        print(f\"Validation Accuracy: {score:.4f}\")\n",
    "        \n",
    "        # Update best accuracy and parameters\n",
    "        if score > best_f1_score:\n",
    "            best_accuracy = accuracy\n",
    "            best_f1_score = score\n",
    "            best_params = {\n",
    "                  'hidden_dim': hidden_dim,\n",
    "                  'num_layers': num_layer,\n",
    "                  'learning_rate': learning_rate,\n",
    "                  'batch_size': batch_size,\n",
    "                  'dropout': dropout,\n",
    "                  'bidirectional': bidirectional\n",
    "                  }\n",
    "\n",
    "print(\"Best Parameters found:\", best_params)\n",
    "print(f\"Best Validation Accuracy: {best_accuracy:.4f}\")\n",
    "print(f\"Best Validation F1-Score: {best_f1_score:.4f}\")"
   ]
  },
  {
   "cell_type": "code",
   "execution_count": 62,
   "metadata": {},
   "outputs": [
    {
     "name": "stdout",
     "output_type": "stream",
     "text": [
      "Best Parameters found: {'hidden_dim': 32, 'num_layers': 3, 'learning_rate': 0.001, 'batch_size': 16, 'dropout': 0.0, 'bidirectional': True}\n",
      "Best Validation Accuracy: 0.9900\n",
      "Best Validation F1-Score: 0.9900\n"
     ]
    }
   ],
   "source": [
    "print(\"Best Parameters found:\", best_params)\n",
    "print(f\"Best Validation Accuracy: {best_accuracy:.4f}\")\n",
    "print(f\"Best Validation F1-Score: {best_f1_score:.4f}\")"
   ]
  },
  {
   "cell_type": "markdown",
   "metadata": {},
   "source": [
    "Best Parameters found: {'hidden_dim': 32, 'num_layers': 3, 'learning_rate': 0.001, 'batch_size': 16, \n",
    "'dropout': 0.0, 'bidirectional': True}\n",
    "\n",
    "Best Validation Accuracy: 0.9900\n",
    "\n",
    "Best Validation F1-Score: 0.9900"
   ]
  }
 ],
 "metadata": {
  "kernelspec": {
   "display_name": ".venv",
   "language": "python",
   "name": "python3"
  },
  "language_info": {
   "codemirror_mode": {
    "name": "ipython",
    "version": 3
   },
   "file_extension": ".py",
   "mimetype": "text/x-python",
   "name": "python",
   "nbconvert_exporter": "python",
   "pygments_lexer": "ipython3",
   "version": "3.10.0"
  }
 },
 "nbformat": 4,
 "nbformat_minor": 2
}
