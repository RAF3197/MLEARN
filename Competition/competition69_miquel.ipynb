{
 "cells": [
  {
   "cell_type": "markdown",
   "metadata": {},
   "source": [
    "# Imports"
   ]
  },
  {
   "cell_type": "code",
   "execution_count": 138,
   "metadata": {},
   "outputs": [],
   "source": [
    "import os\n",
    "import math\n",
    "import torch\n",
    "import torch.nn as nn\n",
    "import numpy as np\n",
    "import torch.optim as optim\n",
    "from torch.utils.data import Dataset, DataLoader, random_split\n",
    "import pandas as pd\n",
    "from sklearn.model_selection import train_test_split\n",
    "from sklearn.metrics import accuracy_score\n",
    "import time\n",
    "from sklearn.preprocessing import LabelEncoder\n",
    "import torch\n",
    "import torch.nn as nn\n",
    "import math\n",
    "from sklearn.discriminant_analysis import StandardScaler\n"
   ]
  },
  {
   "cell_type": "markdown",
   "metadata": {},
   "source": [
    "# Dataset"
   ]
  },
  {
   "cell_type": "code",
   "execution_count": 139,
   "metadata": {},
   "outputs": [],
   "source": [
    "# Custom Dataset\n",
    "class CustomDataset(Dataset):\n",
    "    def __init__(self, csv_path=\"data/dataset_train_2024.csv\"):\n",
    "        # Load data from CSV\n",
    "        data = pd.read_csv(csv_path)\n",
    "        \n",
    "        # Extract features\n",
    "        sequence1 = data.iloc[:, 1:129].values * 100  # Columns 1-128 (1-based indexing)\n",
    "        sequence2 = data.iloc[:, 129:257].values * 100  # Columns 129-256\n",
    "        noise = data.iloc[:, 257].values.reshape(-1, 1)  # Column 257\n",
    "\n",
    "        # Combine features\n",
    "        all_features = np.hstack([sequence1, sequence2, noise])\n",
    "        \n",
    "        # Normalize features\n",
    "        scaler = StandardScaler()\n",
    "        self.normalized_features = scaler.fit_transform(all_features)\n",
    "        self.features = torch.tensor(self.normalized_features, dtype=torch.float32)\n",
    "\n",
    "        # Encode labels\n",
    "        self.label_encoder = LabelEncoder()\n",
    "        self.labels = torch.tensor(self.label_encoder.fit_transform(data.iloc[:, -1]), dtype=torch.long)\n",
    "\n",
    "    def __len__(self):\n",
    "        return len(self.features)\n",
    "\n",
    "    def __getitem__(self, idx):\n",
    "        return self.features[idx], self.labels[idx]\n",
    "    \n",
    "    def inverseTransform(self, array):\n",
    "        return self.label_encoder.inverse_transform(array)"
   ]
  },
  {
   "cell_type": "markdown",
   "metadata": {},
   "source": [
    "# Classifier"
   ]
  },
  {
   "cell_type": "code",
   "execution_count": 140,
   "metadata": {},
   "outputs": [],
   "source": [
    "class PositionalEncoding(nn.Module):\n",
    "    def __init__(self, d_model: int, dropout: float = 0.1, seq_len: int = 128):\n",
    "        super().__init__()\n",
    "        self.dropout = nn.Dropout(p=dropout)\n",
    "\n",
    "        position = torch.arange(seq_len).unsqueeze(1)\n",
    "        div_term = torch.exp(torch.arange(0, d_model, 2) * (-math.log(10000.0) / d_model))\n",
    "        pe = torch.zeros(seq_len, 1, d_model)\n",
    "        pe[:, 0, 0::2] = torch.sin(position * div_term)\n",
    "        pe[:, 0, 1::2] = torch.cos(position * div_term)\n",
    "        self.register_buffer('pe', pe)\n",
    "\n",
    "    def forward(self, x):\n",
    "        x = x + self.pe[:x.size(0)]\n",
    "        return self.dropout(x)\n",
    "\n",
    "def reformat_tensor(tensor):\n",
    "  \"\"\"\n",
    "  Reformats a tensor from shape [batch_size, 257] to [batch_size, 128, 3] for transformer encoder input.\n",
    "  \"\"\"\n",
    "  batch_size = tensor.shape[0]\n",
    "  # Extract sequences\n",
    "  seq1 = tensor[:, :128]\n",
    "  seq2 = tensor[:, 128:256]\n",
    "  # Extract noise and expand it to the correct shape\n",
    "  noise = tensor[:, -1].unsqueeze(1).expand(batch_size, 128)\n",
    "  # Stack the measures and noise along the last dimension\n",
    "  return torch.stack([seq1, seq2, noise], dim=2)\n",
    "\n",
    "# Transformer Encoder\n",
    "class TransformerClassifier(nn.Module):\n",
    "    def __init__(self, input_dim, d_model, nhead, dim_feedforward, num_encoder_layers, num_classes, mlp_hidden_dim, dropout=0.1):\n",
    "        super(TransformerClassifier, self).__init__()\n",
    "\n",
    "        # Project input to d_model\n",
    "        self.input_fc = nn.Linear(input_dim, d_model)\n",
    "\n",
    "        # Positional encoding\n",
    "        self.pos_encoder = PositionalEncoding(d_model)\n",
    "\n",
    "        # Transformer encoder layer\n",
    "        encoder_layers = nn.TransformerEncoderLayer(\n",
    "            d_model=d_model,\n",
    "            nhead=nhead,\n",
    "            dim_feedforward=dim_feedforward,\n",
    "            dropout=dropout\n",
    "        )\n",
    "        self.transformer_encoder = nn.TransformerEncoder(encoder_layers, num_layers=num_encoder_layers)\n",
    "        \n",
    "        # Classification MLP\n",
    "        self.mlp = nn.Sequential(\n",
    "            nn.Linear(d_model, mlp_hidden_dim),  # Input layer\n",
    "            nn.ReLU(),  # Activation\n",
    "            nn.Dropout(dropout),  # Optional dropout\n",
    "            nn.Linear(mlp_hidden_dim, num_classes)  # Output layer\n",
    "        )\n",
    "\n",
    "    def forward(self, x):\n",
    "        # Input shape: [batch_size, seq_len*2 + 1]\n",
    "        # Step 1: Reshape the input to the new format\n",
    "        x = reformat_tensor(x) # [batch_size, seq_len, 3]\n",
    "\n",
    "        # Step 2: Permute dims 0 and 1\n",
    "        x = x.permute(1, 0, 2) # [seq_len, batch_size, 3]\n",
    "\n",
    "        # Step 3: Project input to d_model\n",
    "        x = self.input_fc(x)  # [seq_len, batch_size, d_model]\n",
    "\n",
    "        # Step 4: Add positional encoding\n",
    "        x = self.pos_encoder(x)  # [seq_len, batch_size, d_model]\n",
    "\n",
    "        # Step 5: Pass through the Transformer encoder\n",
    "        x = self.transformer_encoder(x)  # [seq_len, batch_size, d_model]\n",
    "\n",
    "        # Step 6: Pool over the sequence dimension (Global Average Pooling)\n",
    "        x = x.mean(dim=0)  # [batch_size, d_model]\n",
    "\n",
    "        # Step 7: Final classification layer\n",
    "        x = self.mlp(x)  # [batch_size, num_classes]\n",
    "        return x\n"
   ]
  },
  {
   "cell_type": "markdown",
   "metadata": {},
   "source": [
    "# Initialization"
   ]
  },
  {
   "cell_type": "code",
   "execution_count": 141,
   "metadata": {},
   "outputs": [
    {
     "name": "stdout",
     "output_type": "stream",
     "text": [
      "Using device: cuda\n"
     ]
    },
    {
     "name": "stderr",
     "output_type": "stream",
     "text": [
      "c:\\Users\\mique\\Documents\\UNI\\MATT\\MLEARN\\Competition\\.venv\\lib\\site-packages\\torch\\nn\\modules\\transformer.py:379: UserWarning: enable_nested_tensor is True, but self.use_nested_tensor is False because encoder_layer.self_attn.batch_first was not True(use batch_first for better inference performance)\n",
      "  warnings.warn(\n"
     ]
    }
   ],
   "source": [
    "# Parameters\n",
    "BATCH_SIZE = 32\n",
    "N_EPOCHS = 50\n",
    "\n",
    "LEARNING_RATE = 0.001\n",
    "MOMENTUM = 0.001\n",
    "WEIGHT_DECAY=0.001\n",
    "\n",
    "SEQ_LENGTH = 128\n",
    "INPUT_DIM = 3\n",
    "\n",
    "NUM_ENCODER_LAYERS = 1\n",
    "NUM_HEADS = 4\n",
    "MODEL_DIM = 128\n",
    "FEED_FORWARD_DIM = 4 * MODEL_DIM\n",
    "MPL_HIDDEN_DIM = 64\n",
    "NUM_CLASSES = 5\n",
    "DROPOUT = 0.1\n",
    "\n",
    "# Define device to use\n",
    "device = torch.device(\"cuda\" if torch.cuda.is_available() else \"cpu\")\n",
    "print(f\"Using device: {device}\")\n",
    "\n",
    "# Load dataset\n",
    "dataset = CustomDataset()\n",
    "train_size = int(0.8 * len(dataset))  # 80% for training\n",
    "test_size = len(dataset) - train_size  # 20% for testing\n",
    "train_data, test_data = random_split(dataset, [train_size, test_size])\n",
    "\n",
    "# Initialize data loaders\n",
    "train_loader = DataLoader(train_data, batch_size=BATCH_SIZE, shuffle=True)\n",
    "test_loader = DataLoader(test_data, batch_size=BATCH_SIZE)\n",
    "\n",
    "# Model\n",
    "model = TransformerClassifier(\n",
    "    input_dim=INPUT_DIM,\n",
    "    d_model=MODEL_DIM,\n",
    "    nhead=NUM_HEADS,\n",
    "    num_encoder_layers=NUM_ENCODER_LAYERS,\n",
    "    dim_feedforward=FEED_FORWARD_DIM,\n",
    "    num_classes=NUM_CLASSES,\n",
    "    mlp_hidden_dim=MPL_HIDDEN_DIM,\n",
    "    dropout=DROPOUT\n",
    ").to(device)\n",
    "\n",
    "# Loss and optimizer\n",
    "criterion = nn.CrossEntropyLoss()\n",
    "optimizer = optim.AdamW(model.parameters(), lr=LEARNING_RATE, weight_decay=WEIGHT_DECAY)\n"
   ]
  },
  {
   "cell_type": "markdown",
   "metadata": {},
   "source": [
    "# Training"
   ]
  },
  {
   "cell_type": "code",
   "execution_count": 142,
   "metadata": {},
   "outputs": [
    {
     "name": "stdout",
     "output_type": "stream",
     "text": [
      "Training the model...\n",
      "Epoch 1/50, Loss: 0.9101, Time: 2.30 seconds\n",
      "Epoch 2/50, Loss: 0.4796, Time: 2.20 seconds\n",
      "Epoch 3/50, Loss: 0.3864, Time: 2.30 seconds\n",
      "Epoch 4/50, Loss: 0.3252, Time: 2.23 seconds\n",
      "Epoch 5/50, Loss: 0.2921, Time: 2.16 seconds\n",
      "Epoch 6/50, Loss: 0.2514, Time: 2.16 seconds\n",
      "Epoch 7/50, Loss: 0.2271, Time: 2.13 seconds\n",
      "Epoch 8/50, Loss: 0.2076, Time: 2.11 seconds\n",
      "Epoch 9/50, Loss: 0.1846, Time: 2.14 seconds\n",
      "Epoch 10/50, Loss: 0.1926, Time: 2.14 seconds\n",
      "Epoch 11/50, Loss: 0.1730, Time: 2.20 seconds\n",
      "Epoch 12/50, Loss: 0.1589, Time: 2.13 seconds\n",
      "Epoch 13/50, Loss: 0.1666, Time: 2.14 seconds\n",
      "Epoch 14/50, Loss: 0.1443, Time: 2.11 seconds\n",
      "Epoch 15/50, Loss: 0.1449, Time: 2.15 seconds\n",
      "Epoch 16/50, Loss: 0.1417, Time: 2.17 seconds\n",
      "Epoch 17/50, Loss: 0.1284, Time: 2.14 seconds\n",
      "Epoch 18/50, Loss: 0.1181, Time: 2.15 seconds\n",
      "Epoch 19/50, Loss: 0.1174, Time: 2.12 seconds\n",
      "Epoch 20/50, Loss: 0.1070, Time: 2.18 seconds\n",
      "Epoch 21/50, Loss: 0.0979, Time: 2.17 seconds\n",
      "Epoch 22/50, Loss: 0.1030, Time: 2.11 seconds\n",
      "Epoch 23/50, Loss: 0.1018, Time: 2.19 seconds\n",
      "Epoch 24/50, Loss: 0.1034, Time: 2.15 seconds\n",
      "Epoch 25/50, Loss: 0.0948, Time: 2.14 seconds\n",
      "Epoch 26/50, Loss: 0.0945, Time: 2.15 seconds\n",
      "Epoch 27/50, Loss: 0.0768, Time: 2.17 seconds\n",
      "Epoch 28/50, Loss: 0.0907, Time: 2.16 seconds\n",
      "Epoch 29/50, Loss: 0.0889, Time: 2.15 seconds\n",
      "Epoch 30/50, Loss: 0.0831, Time: 2.19 seconds\n",
      "Epoch 31/50, Loss: 0.0781, Time: 2.14 seconds\n",
      "Epoch 32/50, Loss: 0.0704, Time: 2.19 seconds\n",
      "Epoch 33/50, Loss: 0.0735, Time: 2.12 seconds\n",
      "Epoch 34/50, Loss: 0.0677, Time: 2.13 seconds\n",
      "Epoch 35/50, Loss: 0.0688, Time: 2.02 seconds\n",
      "Epoch 36/50, Loss: 0.0764, Time: 20.85 seconds\n",
      "Epoch 37/50, Loss: 0.0557, Time: 70.30 seconds\n",
      "Epoch 38/50, Loss: 0.0644, Time: 63.21 seconds\n"
     ]
    },
    {
     "ename": "KeyboardInterrupt",
     "evalue": "",
     "output_type": "error",
     "traceback": [
      "\u001b[1;31m---------------------------------------------------------------------------\u001b[0m",
      "\u001b[1;31mKeyboardInterrupt\u001b[0m                         Traceback (most recent call last)",
      "Cell \u001b[1;32mIn[142], line 15\u001b[0m\n\u001b[0;32m     13\u001b[0m     loss\u001b[38;5;241m.\u001b[39mbackward()\n\u001b[0;32m     14\u001b[0m     optimizer\u001b[38;5;241m.\u001b[39mstep()\n\u001b[1;32m---> 15\u001b[0m     total_loss \u001b[38;5;241m+\u001b[39m\u001b[38;5;241m=\u001b[39m \u001b[43mloss\u001b[49m\u001b[38;5;241;43m.\u001b[39;49m\u001b[43mitem\u001b[49m\u001b[43m(\u001b[49m\u001b[43m)\u001b[49m\n\u001b[0;32m     17\u001b[0m end_time \u001b[38;5;241m=\u001b[39m time\u001b[38;5;241m.\u001b[39mtime()\n\u001b[0;32m     18\u001b[0m epoch_time \u001b[38;5;241m=\u001b[39m end_time \u001b[38;5;241m-\u001b[39m start_time\n",
      "\u001b[1;31mKeyboardInterrupt\u001b[0m: "
     ]
    }
   ],
   "source": [
    "# Training Loop\n",
    "print(\"Training the model...\")\n",
    "for epoch in range(N_EPOCHS):\n",
    "    model.train()\n",
    "    total_loss = 0\n",
    "    start_time = time.time()\n",
    "    \n",
    "    for features, labels in train_loader:\n",
    "        features, labels = features.to(device), labels.to(device)\n",
    "        optimizer.zero_grad()\n",
    "        outputs = model(features)\n",
    "        loss = criterion(outputs, labels)\n",
    "        loss.backward()\n",
    "        optimizer.step()\n",
    "        total_loss += loss.item()\n",
    "\n",
    "    end_time = time.time()\n",
    "    epoch_time = end_time - start_time\n",
    "    print(f\"Epoch {epoch+1}/{N_EPOCHS}, Loss: {total_loss/len(train_loader):.4f}, Time: {epoch_time:.2f} seconds\")\n"
   ]
  },
  {
   "cell_type": "markdown",
   "metadata": {},
   "source": [
    "# Testing"
   ]
  },
  {
   "cell_type": "code",
   "execution_count": 136,
   "metadata": {},
   "outputs": [
    {
     "name": "stdout",
     "output_type": "stream",
     "text": [
      "Testing the model...\n",
      "F1 Score: 0.9531\n",
      "Accuracy: 0.9533\n"
     ]
    }
   ],
   "source": [
    "# Testing Loop\n",
    "print(\"Testing the model...\")\n",
    "model.eval()\n",
    "all_preds, all_labels = [], []\n",
    "with torch.no_grad():\n",
    "    for features, labels in test_loader:\n",
    "        features, labels = features.to(device), labels.to(device)\n",
    "        outputs = model(features)\n",
    "        _, preds = torch.max(outputs, dim=1)\n",
    "        all_preds.extend(preds.cpu().numpy())\n",
    "        all_labels.extend(labels.cpu().numpy())\n",
    "\n",
    "accuracy = accuracy_score(all_labels, all_preds)\n",
    "from sklearn.metrics import f1_score\n",
    "f1 = f1_score(all_labels, all_preds, average='weighted')  # or 'macro', 'micro', depending on your use case\n",
    "print(f\"F1 Score: {f1:.4f}\")\n",
    "print(f\"Accuracy: {accuracy:.4f}\")\n"
   ]
  },
  {
   "cell_type": "markdown",
   "metadata": {},
   "source": [
    "# Prepare for Kaggle\n"
   ]
  },
  {
   "cell_type": "code",
   "execution_count": 137,
   "metadata": {},
   "outputs": [
    {
     "name": "stdout",
     "output_type": "stream",
     "text": [
      "Predictions saved to 'predictions_with_indices.csv'\n"
     ]
    }
   ],
   "source": [
    "#Using the model for prediction with the evaluation dataset\n",
    "\n",
    "import torch\n",
    "import pandas as pd\n",
    "from torch.utils.data import Dataset, DataLoader\n",
    "\n",
    "# Define the dataset class\n",
    "class UnlabeledDataset(Dataset):\n",
    "    def __init__(self, dataframe, transform=None):\n",
    "        self.data = dataframe\n",
    "\n",
    "        self.scaler = StandardScaler()\n",
    "        normalized_values = self.scaler.fit_transform(self.data.values)\n",
    "        self.normalized_data = pd.DataFrame(\n",
    "            normalized_values, columns=self.data.columns, index=self.data.index\n",
    "        )\n",
    "        self.transform = transform\n",
    "\n",
    "    def __len__(self):\n",
    "        return len(self.data)\n",
    "\n",
    "    def __getitem__(self, idx):\n",
    "        inputs = self.normalized_data.iloc[idx].values.astype('float32')  # Retrieve row as NumPy array\n",
    "        if self.transform:\n",
    "            inputs = self.transform(inputs)\n",
    "        return inputs\n",
    "\n",
    "# Load the unlabeled dataset\n",
    "csv_path = \"data/dataset_test_no_label_2024.csv\"  # Path to the dataset CSV file\n",
    "unlabeled_df = pd.read_csv(csv_path)  # Update the filename\n",
    "unlabeled_df = unlabeled_df.drop(unlabeled_df.columns[0], axis=1)\n",
    "unlabeled_dataset = UnlabeledDataset(unlabeled_df)\n",
    "unlabeled_dataloader = DataLoader(unlabeled_dataset, batch_size=64, shuffle=False)\n",
    "\n",
    "# Set the model to evaluation mode\n",
    "model.eval()\n",
    "\n",
    "# Store predictions and indices\n",
    "predictions = []\n",
    "indices = []\n",
    "\n",
    "# Generate predictions\n",
    "with torch.no_grad():\n",
    "    for idx, inputs in enumerate(unlabeled_dataloader):\n",
    "        inputs = inputs.to(device)  # Send inputs to the same device as the model\n",
    "        \n",
    "        # Forward pass\n",
    "        outputs = model(inputs)\n",
    "        preds = torch.argmax(outputs, dim=1)  # Get predicted class\n",
    "        \n",
    "        # Save predictions and indices\n",
    "        start_idx = idx * unlabeled_dataloader.batch_size\n",
    "        batch_indices = list(range(start_idx, start_idx + len(inputs)))  # Adjusting the index properly\n",
    "        indices.extend(batch_indices)\n",
    "        predictions.extend(preds.cpu().numpy())\n",
    "\n",
    "# Create a DataFrame with indices and predictions\n",
    "output_df = pd.DataFrame({\"ID\": indices, \"MODULATION\": dataset.inverseTransform(predictions)})\n",
    "\n",
    "# Save to a CSV file\n",
    "output_df.to_csv(\"predictions_with_indices.csv\", index=False)\n",
    "\n",
    "print(\"Predictions saved to 'predictions_with_indices.csv'\")"
   ]
  }
 ],
 "metadata": {
  "kernelspec": {
   "display_name": ".venv",
   "language": "python",
   "name": "python3"
  },
  "language_info": {
   "codemirror_mode": {
    "name": "ipython",
    "version": 3
   },
   "file_extension": ".py",
   "mimetype": "text/x-python",
   "name": "python",
   "nbconvert_exporter": "python",
   "pygments_lexer": "ipython3",
   "version": "3.10.11"
  }
 },
 "nbformat": 4,
 "nbformat_minor": 2
}
